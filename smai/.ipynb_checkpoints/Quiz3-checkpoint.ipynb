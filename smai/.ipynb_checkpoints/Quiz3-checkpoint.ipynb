{
 "cells": [
  {
   "cell_type": "code",
   "execution_count": 1,
   "metadata": {},
   "outputs": [],
   "source": [
    "import numpy as np\n",
    "import torch\n",
    "import torch.nn as nn\n",
    "import torch.optim as optim\n",
    "import matplotlib.pyplot as plt"
   ]
  },
  {
   "cell_type": "code",
   "execution_count": 37,
   "metadata": {},
   "outputs": [],
   "source": [
    "class Net(nn.Module):\n",
    "    def __init__(self):\n",
    "        super(Net, self).__init__()\n",
    "        # Initialize all the layers with learnable parameters\n",
    "        self.fc1 = nn.Linear(2, 3, False) \n",
    "        self.fc2 = nn.Linear(3, 1, False)\n",
    "\n",
    "    def forward(self, x):\n",
    "        # Write the forward pass\n",
    "        x = self.fc1(x)\n",
    "        x = torch.sigmoid(x)\n",
    "        x = self.fc2(x)\n",
    "        x = torch.sigmoid(x)\n",
    "        return x\n",
    "\n",
    "model = Net()"
   ]
  },
  {
   "cell_type": "code",
   "execution_count": 38,
   "metadata": {},
   "outputs": [],
   "source": [
    "def weights_init(model):\n",
    "    for m in model.modules():\n",
    "        if isinstance(m, nn.Linear):\n",
    "            # initialize the weight tensor, here we use a normal distribution\n",
    "#             m.weight.data.normal_(0, 1)\n",
    "            nn.init.ones_(m.weight.data)\n",
    "\n",
    "weights_init(model)"
   ]
  },
  {
   "cell_type": "code",
   "execution_count": 39,
   "metadata": {},
   "outputs": [],
   "source": [
    "loss_func = nn.MSELoss()\n",
    "optimizer = optim.SGD(model.parameters(), lr=0.1)"
   ]
  },
  {
   "cell_type": "code",
   "execution_count": 40,
   "metadata": {},
   "outputs": [],
   "source": [
    "X = np.array([[5, 5]])\n",
    "y = np.array([0.7])\n",
    "X = torch.tensor(X, dtype=torch.float, requires_grad=False)\n",
    "y = torch.tensor(y, dtype=torch.float, requires_grad=False)"
   ]
  },
  {
   "cell_type": "code",
   "execution_count": 41,
   "metadata": {},
   "outputs": [
    {
     "name": "stdout",
     "output_type": "stream",
     "text": [
      "1 tensor([[5.1828e-06, 5.1828e-06],\n",
      "        [5.1828e-06, 5.1828e-06],\n",
      "        [5.1828e-06, 5.1828e-06]])\n",
      "1 tensor([[0.0228, 0.0228, 0.0228]])\n",
      "Epoch: 0, Loss: 0.06379059702157974\n"
     ]
    }
   ],
   "source": [
    "epochs = 1\n",
    "for i in range(epochs):\n",
    "    optimizer.zero_grad()\n",
    "    y_hat = model(X)\n",
    "    loss = loss_func.forward(y_hat[:, 0], y)\n",
    "    loss.backward()\n",
    "    for m in model.modules():\n",
    "        if isinstance(m, nn.Linear):\n",
    "            print(1, m.weight.grad)\n",
    "    optimizer.step()\n",
    "    if i % 100 == 0:\n",
    "        print(f\"Epoch: {i}, Loss: {loss.data.numpy()}\")"
   ]
  },
  {
   "cell_type": "code",
   "execution_count": 15,
   "metadata": {},
   "outputs": [
    {
     "data": {
      "text/plain": [
       "tensor([[1., 1.]])"
      ]
     },
     "execution_count": 15,
     "metadata": {},
     "output_type": "execute_result"
    }
   ],
   "source": [
    "nn.init.ones_(a)"
   ]
  },
  {
   "cell_type": "code",
   "execution_count": null,
   "metadata": {},
   "outputs": [],
   "source": []
  },
  {
   "cell_type": "code",
   "execution_count": 30,
   "metadata": {},
   "outputs": [
    {
     "name": "stdout",
     "output_type": "stream",
     "text": [
      "torch.Size([12, 5, 50])\n"
     ]
    }
   ],
   "source": [
    "conv = nn.Conv1d(in_channels=1, out_channels=5, kernel_size=7, padding=3, bias=False)\n",
    "output = conv(torch.randn(12, 1, 100))\n",
    "print(output.shape)"
   ]
  },
  {
   "cell_type": "code",
   "execution_count": 35,
   "metadata": {},
   "outputs": [
    {
     "name": "stdout",
     "output_type": "stream",
     "text": [
      "Parameter containing:\n",
      "tensor([[[ 0.3434, -0.0296, -0.2372,  0.1691, -0.3711, -0.1603,  0.0464]],\n",
      "\n",
      "        [[-0.1010, -0.0778, -0.0690,  0.2698, -0.3380,  0.0039, -0.0440]],\n",
      "\n",
      "        [[ 0.1079,  0.1501, -0.2073,  0.0071,  0.2673, -0.1110,  0.1698]],\n",
      "\n",
      "        [[ 0.2129,  0.1403, -0.1850,  0.2386, -0.3391,  0.2437, -0.0320]],\n",
      "\n",
      "        [[ 0.1140,  0.1401,  0.1955,  0.1436,  0.2342, -0.2986,  0.2476]]],\n",
      "       requires_grad=True)\n"
     ]
    }
   ],
   "source": [
    "for x in conv.named_parameters():\n",
    "    print(x[1])"
   ]
  },
  {
   "cell_type": "code",
   "execution_count": null,
   "metadata": {},
   "outputs": [],
   "source": []
  }
 ],
 "metadata": {
  "kernelspec": {
   "display_name": "Python (cvit)",
   "language": "python",
   "name": "cvit"
  },
  "language_info": {
   "codemirror_mode": {
    "name": "ipython",
    "version": 3
   },
   "file_extension": ".py",
   "mimetype": "text/x-python",
   "name": "python",
   "nbconvert_exporter": "python",
   "pygments_lexer": "ipython3",
   "version": "3.7.7"
  }
 },
 "nbformat": 4,
 "nbformat_minor": 4
}
