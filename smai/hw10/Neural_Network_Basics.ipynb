{
  "nbformat": 4,
  "nbformat_minor": 0,
  "metadata": {
    "colab": {
      "name": "Neural Network Basics.ipynb",
      "provenance": [],
      "collapsed_sections": []
    },
    "kernelspec": {
      "name": "python3",
      "display_name": "Python 3"
    },
    "accelerator": "GPU"
  },
  "cells": [
    {
      "cell_type": "markdown",
      "metadata": {
        "id": "UPu9AiyAStqg"
      },
      "source": [
        "# Neural Networks with NumPy and PyTorch\n",
        "\n",
        "In this notebook we will look at how to implement various Neural Network modules using Numpy and Pytorch. We will then finally use all these modules to build a multi-layered perceptron (MLP).\n",
        "\n"
      ]
    },
    {
      "cell_type": "code",
      "metadata": {
        "id": "IiyOm7QPoZr6"
      },
      "source": [
        "import numpy as np\n",
        "import torch\n",
        "import torch.nn as nn\n",
        "import torch.optim as optim\n",
        "\n",
        "from matplotlib.colors import ListedColormap\n",
        "import matplotlib.pyplot as plt\n",
        "\n",
        "%matplotlib inline\n",
        "\n",
        "# # The following code is used for hiding the warnings and make this notebook clearer.\n",
        "from matplotlib.axes._axes import _log as matplotlib_axes_logger\n",
        "matplotlib_axes_logger.setLevel('ERROR')"
      ],
      "execution_count": null,
      "outputs": []
    },
    {
      "cell_type": "markdown",
      "metadata": {
        "id": "ybcefoEbPzq_"
      },
      "source": [
        "## Miscellaneous code for plotting decision boundary (ignore)"
      ]
    },
    {
      "cell_type": "code",
      "metadata": {
        "id": "ipuB57QrO2-v"
      },
      "source": [
        "## Miscellaneous code to plot decision boundary (ignore) ##\n",
        "\n",
        "def plot_decision_regions(X, y, classifier, method, test_idx=None, resolution=0.02):\n",
        "\n",
        "    # setup marker generator and color map\n",
        "    markers = ('s', 'x', 'o', '^', 'v')\n",
        "    colors = ('red', 'blue', 'lightgreen', 'gray', 'cyan')\n",
        "    cmap = ListedColormap(colors[:len(np.unique(y))])\n",
        "\n",
        "    # plot the decision surface\n",
        "    x1_min, x1_max = X[:, 0].min() - 1, X[:, 0].max() + 1\n",
        "    x2_min, x2_max = X[:, 1].min() - 1, X[:, 1].max() + 1\n",
        "    xx1, xx2 = np.meshgrid(np.arange(x1_min, x1_max, resolution),\n",
        "                           np.arange(x2_min, x2_max, resolution))\n",
        "    if method == 'numpy':\n",
        "        Z = classifier.predict(np.array([xx1.ravel(), xx2.ravel()]).T)\n",
        "    elif method == 'pytorch':\n",
        "        inp = torch.tensor([xx1.ravel(), xx2.ravel()], dtype=torch.float, requires_grad=False).T\n",
        "        Z = np.array([]).reshape(0,1)\n",
        "        for data in inp:\n",
        "            out = classifier(data)\n",
        "            Z = np.vstack((Z, out.data.numpy()))\n",
        "    else:\n",
        "        print('Not implemented')\n",
        "    Z = Z.reshape(xx1.shape)\n",
        "    plt.contourf(xx1, xx2, Z, alpha=0.4, cmap=cmap)\n",
        "    plt.xlim(xx1.min(), xx1.max())\n",
        "    plt.ylim(xx2.min(), xx2.max())\n",
        "\n",
        "    # plot class samples\n",
        "    for idx, cl in enumerate(np.unique(y)):\n",
        "        plt.scatter(x=X[y == cl, 0], y=X[y == cl, 1],\n",
        "                    alpha=0.8, c=cmap(idx),\n",
        "                    marker=markers[idx], label=cl)\n",
        "\n",
        "    # highlight test samples\n",
        "    if test_idx:\n",
        "        # plot all samples\n",
        "        X_test, y_test = X[test_idx, :], y[test_idx]\n",
        "\n",
        "        plt.scatter(X_test[:, 0],\n",
        "                    X_test[:, 1],\n",
        "                    c='',\n",
        "                    alpha=1.0,\n",
        "                    linewidths=1,\n",
        "                    marker='o',\n",
        "                    s=55, label='test set')"
      ],
      "execution_count": null,
      "outputs": []
    },
    {
      "cell_type": "markdown",
      "metadata": {
        "id": "IDBs0447fkl9"
      },
      "source": [
        "## From perceptron to dense layer\n",
        "\n",
        "We have earlier seen perceptron learning algorithm in details. A perceptron or a neuron is a mathematical function that takes in input a vector and outputs a single numerical value.\n",
        "\n",
        "![](https://drive.google.com/uc?export=view&id=13iunc0gCEikqIJWf_LxkacCxZx2mzxpU)\n",
        "\n",
        "The neuron is defined as follows:\n",
        "$$\n",
        "y = f \\left( \\sum_i (x_i w_i + b) \\right)\n",
        "$$\n",
        "\n",
        "We will now use several of these neurons in a layer and stack several layers to create a multi-layered neural network.\n",
        "\n",
        "![](https://drive.google.com/uc?export=view&id=1WMj9bf-TdqBobkHN80xQMmXnPzX3UQUt)\n",
        "\n",
        "We will now create a neural network with two neurons in the hidden layer and we will show how this can model the XOR function using Numpy. However, we will write code that will allow the reader to simply modify it to allow for any number of layers and neurons in each layer, so that the reader can try simulating different scenarios. We are also going to use the hyperbolic tangent as the activity function for this network. To train the network, we will implement the back-propagation algorithm.\n",
        "\n",
        "![](https://drive.google.com/uc?export=view&id=1Td_t6W-KvogNMLBu2zQawfNBmB161OZ7)\n",
        "\n"
      ]
    },
    {
      "cell_type": "markdown",
      "metadata": {
        "id": "jTOopluObeqU"
      },
      "source": [
        "### Define the Neural Network class"
      ]
    },
    {
      "cell_type": "markdown",
      "metadata": {
        "id": "UsJSWnubby-Z"
      },
      "source": [
        "We will now define the activation function. We will use `tanh(x)` function in this example."
      ]
    },
    {
      "cell_type": "code",
      "metadata": {
        "id": "h5xGpa2B8aJr"
      },
      "source": [
        "def tanh(x):\n",
        "    return (1.0 - np.exp(-2*x))/(1.0 + np.exp(-2*x))\n",
        "\n",
        "def tanh_derivative(x):\n",
        "    return (1 + x)*(1 - x)"
      ],
      "execution_count": null,
      "outputs": []
    },
    {
      "cell_type": "markdown",
      "metadata": {
        "id": "KJ7a8ly_b90B"
      },
      "source": [
        "Next we define the `NeuralNetwork` class:"
      ]
    },
    {
      "cell_type": "code",
      "metadata": {
        "id": "TMtjvjwA8twH"
      },
      "source": [
        "class NeuralNetwork:\n",
        "    def __init__(self, net_arch):\n",
        "        #########\n",
        "        # parameters\n",
        "        # ----------\n",
        "        # self:      the class object itself\n",
        "        # net_arch:  consists of a list of integers, indicating\n",
        "        #            the number of neurons in each layer, i.e. the network architecture\n",
        "        #########\n",
        "        np.random.seed(0)\n",
        "        \n",
        "        # Initialized the weights, making sure we also \n",
        "        # initialize the weights for the biases that we will add later\n",
        "        self.activation = tanh\n",
        "        self.activation_derivative = tanh_derivative\n",
        "        self.layers = len(net_arch)\n",
        "        self.arch = net_arch\n",
        "        self.weights = []\n",
        "\n",
        "        # Random initialization with range of weight values (-1,1)\n",
        "        for layer in range(self.layers - 1):\n",
        "            w = 2 * np.random.rand(net_arch[layer] + 1, net_arch[layer+1]) - 1\n",
        "            self.weights.append(w)\n",
        "    \n",
        "\n",
        "    def _forward_prop(self, x):\n",
        "        out = x\n",
        "\n",
        "        for i in range(len(self.weights)-1):\n",
        "            tmp_out = np.dot(out[i], self.weights[i])\n",
        "            feats = self.activation(tmp_out)\n",
        "\n",
        "            # add the bias for the next layer\n",
        "            feats = np.concatenate((np.ones(1), np.array(feats)))\n",
        "            out.append(feats)\n",
        "\n",
        "        # last layer\n",
        "        tmp_out = np.dot(out[-1], self.weights[-1])\n",
        "        feats = self.activation(tmp_out)\n",
        "        out.append(feats)\n",
        "        \n",
        "        return out\n",
        "    \n",
        "\n",
        "    def _back_prop(self, y, target, learning_rate):\n",
        "        # calculate loss\n",
        "        error = (target - y[-1])\n",
        "        mse = 0.5 * (error * error)\n",
        "\n",
        "        #calculate loss derivative\n",
        "        delta_vec = [error * self.activation_derivative(y[-1])]\n",
        "\n",
        "        # we need to begin from the back, from the next to last layer\n",
        "        for i in range(self.layers-2, 0, -1):\n",
        "            error = delta_vec[-1].dot(self.weights[i][1:].T)\n",
        "            error = error*self.activation_derivative(y[i][1:])\n",
        "            delta_vec.append(error)\n",
        "\n",
        "        # Now we need to set the values from back to front\n",
        "        delta_vec.reverse()\n",
        "        \n",
        "        # Finally, we adjust the weights, using the backpropagation rules\n",
        "        for i in range(len(self.weights)):\n",
        "            layer = y[i].reshape(1, self.arch[i]+1)\n",
        "            delta = delta_vec[i].reshape(1, self.arch[i+1])\n",
        "            self.weights[i] += learning_rate*layer.T.dot(delta)\n",
        "    \n",
        "\n",
        "    def fit(self, data, labels, learning_rate=0.1, epochs=100):\n",
        "        #########\n",
        "        # Training Routine\n",
        "        #########\n",
        "        # parameters\n",
        "        # ----------\n",
        "        # self:    the class object itself\n",
        "        # data:    the set of all possible pairs of booleans True or False indicated by the integers 1 or 0\n",
        "        # labels:  the result of the logical operation 'xor' on each of those input pairs\n",
        "        #########\n",
        "\n",
        "        # Add bias units to the input layer - \n",
        "        # add a \"1\" to the input data (the always-on bias neuron)\n",
        "        ones = np.ones((1, data.shape[0]))\n",
        "        Z = np.concatenate((ones.T, data), axis=1)\n",
        "        \n",
        "        # gradient descent iterations\n",
        "        for k in range(epochs):\n",
        "            # display every 10,000th epoch number\n",
        "            if (k+1) % 10000 == 0:\n",
        "                print('epochs: {}'.format(k+1))\n",
        "\n",
        "            # randomly select a training data point\n",
        "            sample = np.random.randint(X.shape[0])\n",
        "\n",
        "            # We will now go ahead and set up our feed-forward propagation:\n",
        "            x = [Z[sample]]\n",
        "            y = self._forward_prop(x)\n",
        "\n",
        "            # Now we do our back-propagation of the error to adjust the weights:\n",
        "            target = labels[sample]\n",
        "            self._back_prop(y, target, learning_rate)\n",
        "    \n",
        "\n",
        "    def predict_single_data(self, x):\n",
        "        #########\n",
        "        # the predict function is used to check the prediction result of\n",
        "        # this neural network.\n",
        "        # \n",
        "        # parameters\n",
        "        # ----------\n",
        "        # self:   the class object itself\n",
        "        # x:      single input data\n",
        "        #########\n",
        "        val = np.concatenate((np.ones(1).T, np.array(x)))\n",
        "        for i in range(0, len(self.weights)):\n",
        "            val = self.activation(np.dot(val, self.weights[i]))\n",
        "            val = np.concatenate((np.ones(1).T, np.array(val)))\n",
        "        return val[1]\n",
        "    \n",
        "\n",
        "    def predict(self, X):\n",
        "        #########\n",
        "        # the predict function is used to check the prediction result of\n",
        "        # this neural network.\n",
        "        # \n",
        "        # parameters\n",
        "        # ----------\n",
        "        # self:   the class object itself\n",
        "        # X:      the input data array\n",
        "        #########\n",
        "        Y = np.array([]).reshape(0, self.arch[-1])\n",
        "        for x in X:\n",
        "            y = np.array([[self.predict_single_data(x)]])\n",
        "            Y = np.vstack((Y,y))\n",
        "        return Y"
      ],
      "execution_count": null,
      "outputs": []
    },
    {
      "cell_type": "code",
      "metadata": {
        "id": "2tt1T__h82ag",
        "colab": {
          "base_uri": "https://localhost:8080/"
        },
        "outputId": "eb81504a-f593-4a2f-aea8-0941d1bed316"
      },
      "source": [
        "np.random.seed(0)\n",
        "\n",
        "# Initialize the NeuralNetwork with\n",
        "# 2 input neurons\n",
        "# 2 hidden neurons\n",
        "# 1 output neuron\n",
        "net = NeuralNetwork([2,2,1])\n",
        "\n",
        "# Set the input data\n",
        "X = np.array([[0, 0], [0, 1],\n",
        "                [1, 0], [1, 1]])\n",
        "\n",
        "# Set the labels, the correct results for the xor operation\n",
        "y = np.array([0, 1, \n",
        "                 1, 0])\n",
        "\n",
        "# Call the fit function and train the network for a chosen number of epochs\n",
        "net.fit(X, y, epochs=100000)\n",
        "\n",
        "# Show the prediction results\n",
        "print(\"Final prediction\")\n",
        "for s in X:\n",
        "    print(s, net.predict_single_data(s))"
      ],
      "execution_count": null,
      "outputs": [
        {
          "output_type": "stream",
          "text": [
            "epochs: 10000\n",
            "epochs: 20000\n",
            "epochs: 30000\n",
            "epochs: 40000\n",
            "epochs: 50000\n",
            "epochs: 60000\n",
            "epochs: 70000\n",
            "epochs: 80000\n",
            "epochs: 90000\n",
            "epochs: 100000\n",
            "Final prediction\n",
            "[0 0] 2.7693903183372263e-05\n",
            "[0 1] 0.995154295769496\n",
            "[1 0] 0.9951532983339081\n",
            "[1 1] 2.7834280538588892e-05\n"
          ],
          "name": "stdout"
        }
      ]
    },
    {
      "cell_type": "code",
      "metadata": {
        "id": "OrfqSOGK86m_",
        "colab": {
          "base_uri": "https://localhost:8080/",
          "height": 297
        },
        "outputId": "73c941ed-fa11-42cd-f7e8-976bb849a2fd"
      },
      "source": [
        "np.random.seed(0)\n",
        "plot_decision_regions(X, y, net, 'numpy')\n",
        "plt.xlabel('x-axis')\n",
        "plt.ylabel('y-axis')\n",
        "plt.legend(loc='upper left')\n",
        "plt.tight_layout()\n",
        "plt.show()"
      ],
      "execution_count": null,
      "outputs": [
        {
          "output_type": "display_data",
          "data": {
            "image/png": "[encoded data removed]",
            "text/plain": [
              "<Figure size 432x288 with 1 Axes>"
            ]
          },
          "metadata": {
            "tags": [],
            "needs_background": "light"
          }
        }
      ]
    },
    {
      "cell_type": "markdown",
      "metadata": {
        "id": "M06A4obAmCH8"
      },
      "source": [
        "### PyTorch implementation\n",
        "\n",
        "We will now solve the same non-linear XOR problem, but this time we will use Pytorch library instead of using Numpy."
      ]
    },
    {
      "cell_type": "markdown",
      "metadata": {
        "id": "oPRAUbSppt3g"
      },
      "source": [
        "Define the input data"
      ]
    },
    {
      "cell_type": "code",
      "metadata": {
        "id": "B4-HE3rWpxtI"
      },
      "source": [
        "torch.manual_seed(0)\n",
        "\n",
        "X = torch.tensor([[0,0],[0,1], [1,0], [1,1]], dtype=torch.float, requires_grad=False)\n",
        "Y = torch.tensor([0,1,1,0], dtype=torch.float, requires_grad=False)\n"
      ],
      "execution_count": null,
      "outputs": []
    },
    {
      "cell_type": "markdown",
      "metadata": {
        "id": "4WrorxFGmeBW"
      },
      "source": [
        "Define the Nerual Network class `Net`"
      ]
    },
    {
      "cell_type": "code",
      "metadata": {
        "id": "amMwBA5amadq"
      },
      "source": [
        "class Net(nn.Module):\n",
        "\n",
        "    def __init__(self):\n",
        "        super(Net, self).__init__()\n",
        "        # Initialize all the layers with learnable parameters\n",
        "        self.fc1 = nn.Linear(2, 2, True) \n",
        "        self.fc2 = nn.Linear(2, 1, True)\n",
        "\n",
        "    def forward(self, x):\n",
        "        # Write the forward pass\n",
        "        x = self.fc1(x)\n",
        "        x = torch.sigmoid(x)\n",
        "        x = self.fc2(x)\n",
        "        x = torch.sigmoid(x)\n",
        "        return x\n",
        "\n",
        "model = Net()"
      ],
      "execution_count": null,
      "outputs": []
    },
    {
      "cell_type": "markdown",
      "metadata": {
        "id": "IXHGjf7bopa7"
      },
      "source": [
        "Initialize the weights"
      ]
    },
    {
      "cell_type": "code",
      "metadata": {
        "id": "quKUVIkmnLck"
      },
      "source": [
        "def weights_init(model):\n",
        "    for m in model.modules():\n",
        "        if isinstance(m, nn.Linear):\n",
        "            # initialize the weight tensor, here we use a normal distribution\n",
        "            m.weight.data.normal_(0, 1)\n",
        "\n",
        "weights_init(model)\n"
      ],
      "execution_count": null,
      "outputs": []
    },
    {
      "cell_type": "markdown",
      "metadata": {
        "id": "Ht0S9Bspo5sA"
      },
      "source": [
        "Define the loss function"
      ]
    },
    {
      "cell_type": "code",
      "metadata": {
        "id": "gWiUFf8to028"
      },
      "source": [
        "loss_func = nn.MSELoss()"
      ],
      "execution_count": null,
      "outputs": []
    },
    {
      "cell_type": "markdown",
      "metadata": {
        "id": "BxDXaDwCo-X0"
      },
      "source": [
        "Define optimizer"
      ]
    },
    {
      "cell_type": "code",
      "metadata": {
        "id": "fIt-u83To8Cp"
      },
      "source": [
        "optimizer = optim.SGD(model.parameters(), lr=0.1)"
      ],
      "execution_count": null,
      "outputs": []
    },
    {
      "cell_type": "markdown",
      "metadata": {
        "id": "FvDIhNOAtKJR"
      },
      "source": [
        "Write the training routine"
      ]
    },
    {
      "cell_type": "code",
      "metadata": {
        "id": "XdoIOwHjpDUC",
        "colab": {
          "base_uri": "https://localhost:8080/"
        },
        "outputId": "a9120fcd-51a3-4c95-ee2c-04362f502861"
      },
      "source": [
        "epochs = 5000\n",
        "steps = X.size(0)\n",
        "for i in range(epochs): # iterate over epoch\n",
        "    for j in range(steps): # iterate over sample\n",
        "        # randomly sample the inputs\n",
        "        sample = np.random.randint(X.size(0))\n",
        "        x_var = X[sample]\n",
        "        y_var = Y[sample]\n",
        "        \n",
        "        optimizer.zero_grad()\n",
        "\n",
        "        y_hat = model(x_var)\n",
        "        \n",
        "        loss = loss_func.forward(y_hat[0], y_var)\n",
        "        loss.backward()\n",
        "        \n",
        "        optimizer.step()\n",
        "        \n",
        "    if i % 500 == 0:\n",
        "        print(\"Epoch: {0}, Loss: {1}, \".format(i, loss.data.numpy()))"
      ],
      "execution_count": null,
      "outputs": [
        {
          "output_type": "stream",
          "text": [
            "Epoch: 0, Loss: 0.22248335182666779, \n",
            "Epoch: 500, Loss: 0.3160940408706665, \n",
            "Epoch: 1000, Loss: 0.1796559989452362, \n",
            "Epoch: 1500, Loss: 0.29297852516174316, \n",
            "Epoch: 2000, Loss: 0.23936912417411804, \n",
            "Epoch: 2500, Loss: 0.3022308051586151, \n",
            "Epoch: 3000, Loss: 0.22345194220542908, \n",
            "Epoch: 3500, Loss: 0.19708336889743805, \n",
            "Epoch: 4000, Loss: 0.24158047139644623, \n",
            "Epoch: 4500, Loss: 0.03484043851494789, \n"
          ],
          "name": "stdout"
        }
      ]
    },
    {
      "cell_type": "markdown",
      "metadata": {
        "id": "UDJ_t_n7tNft"
      },
      "source": [
        "Check the output"
      ]
    },
    {
      "cell_type": "code",
      "metadata": {
        "id": "-iuVBZAhqmyc",
        "colab": {
          "base_uri": "https://localhost:8080/"
        },
        "outputId": "5072d210-789b-4862-9c66-015ed6395e0d"
      },
      "source": [
        "for data in X:\n",
        "    output = model(data)\n",
        "    print(data, np.round(output.data.numpy()))"
      ],
      "execution_count": null,
      "outputs": [
        {
          "output_type": "stream",
          "text": [
            "tensor([0., 0.]) [0.]\n",
            "tensor([0., 1.]) [1.]\n",
            "tensor([1., 0.]) [1.]\n",
            "tensor([1., 1.]) [0.]\n"
          ],
          "name": "stdout"
        }
      ]
    },
    {
      "cell_type": "markdown",
      "metadata": {
        "id": "rivkpNxI14nM"
      },
      "source": [
        "Visualize the decision boundary"
      ]
    },
    {
      "cell_type": "code",
      "metadata": {
        "id": "x0NwT57etnik",
        "colab": {
          "base_uri": "https://localhost:8080/",
          "height": 297
        },
        "outputId": "0bf4f0fe-8163-4847-82a8-12e6e96cda37"
      },
      "source": [
        "np.random.seed(0)\n",
        "plot_decision_regions(X.detach().numpy(), Y.detach().numpy(), model, 'pytorch')\n",
        "plt.xlabel('x-axis')\n",
        "plt.ylabel('y-axis')\n",
        "plt.legend(loc='upper left')\n",
        "plt.tight_layout()\n",
        "plt.show()"
      ],
      "execution_count": null,
      "outputs": [
        {
          "output_type": "display_data",
          "data": {
            "image/png": "[encoded data removed]",
            "text/plain": [
              "<Figure size 432x288 with 1 Axes>"
            ]
          },
          "metadata": {
            "tags": [],
            "needs_background": "light"
          }
        }
      ]
    }
  ]
}