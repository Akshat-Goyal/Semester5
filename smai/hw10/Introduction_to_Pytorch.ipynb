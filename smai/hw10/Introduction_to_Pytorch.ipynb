{
  "nbformat": 4,
  "nbformat_minor": 0,
  "metadata": {
    "colab": {
      "name": "Introduction to Pytorch.ipynb",
      "provenance": [],
      "collapsed_sections": []
    },
    "kernelspec": {
      "name": "python3",
      "display_name": "Python 3"
    },
    "accelerator": "GPU"
  },
  "cells": [
    {
      "cell_type": "markdown",
      "metadata": {
        "id": "l-fq5AVbul0O"
      },
      "source": [
        "# What is PyTorch\n",
        "---\n",
        "It’s a Python based scientific computing package targeted at two sets of audiences:\n",
        "- A replacement for numpy to use the power of GPUs\n",
        "- a deep learning research platform that provides maximum flexibility and speed\n",
        "\n",
        "![](https://drive.google.com/uc?export=view&id=1OgDjsU6MiXAtHJUId9YawQv8_CKPOrY8)\n"
      ]
    },
    {
      "cell_type": "code",
      "metadata": {
        "id": "z2hncnuhu36K",
        "colab": {
          "base_uri": "https://localhost:8080/"
        },
        "outputId": "4e6595ce-f631-4c45-ff54-04b0e884f0b6"
      },
      "source": [
        "# import NumPy\n",
        "import numpy as np\n",
        "\n",
        "# import Pytorch\n",
        "import torch\n",
        "print(torch.__version__)"
      ],
      "execution_count": null,
      "outputs": [
        {
          "output_type": "stream",
          "text": [
            "1.7.0+cu101\n"
          ],
          "name": "stdout"
        }
      ]
    },
    {
      "cell_type": "markdown",
      "metadata": {
        "id": "Oq55em2LvQ_W"
      },
      "source": [
        "## Tensors\n",
        "\n",
        "Tensors are similar to numpy’s ndarrays, with the addition being that they can also be used on a GPU to accelerate computing. \n",
        "![](https://drive.google.com/uc?export=view&id=1tNv5mhCl_kEiIqUoO3f6Xl1MM7z8mfU3)\n",
        "\n",
        "There are more to a PyTorch tensor than just being a replacement to numpy's ndarrays, but we shall see about them later."
      ]
    },
    {
      "cell_type": "markdown",
      "metadata": {
        "id": "UJdIsSV3-5fV"
      },
      "source": [
        "### Basics\n",
        "\n",
        "Let's now see how to do basic matrix operations using PyTorch and how they compare with NumPy operations.\n",
        "\n",
        "Construct a 5x3 matrix, uninitialized:"
      ]
    },
    {
      "cell_type": "code",
      "metadata": {
        "id": "OXP53MDz-wiW",
        "colab": {
          "base_uri": "https://localhost:8080/"
        },
        "outputId": "dfba6d44-fba8-4249-b32a-777d9a989515"
      },
      "source": [
        "x = torch.Tensor(5, 3)\n",
        "print(x)"
      ],
      "execution_count": null,
      "outputs": [
        {
          "output_type": "stream",
          "text": [
            "tensor([[1.8252e-35, 0.0000e+00, 3.7835e-44],\n",
            "        [0.0000e+00,        nan, 1.5414e-43],\n",
            "        [1.3733e-14, 6.4069e+02, 4.3066e+21],\n",
            "        [1.1824e+22, 4.3066e+21, 6.3828e+28],\n",
            "        [3.8016e-39, 1.4013e-43, 6.0053e-36]])\n"
          ],
          "name": "stdout"
        }
      ]
    },
    {
      "cell_type": "markdown",
      "metadata": {
        "id": "MsP7sZ6YACpR"
      },
      "source": [
        "Construct a randomly initialized matrix"
      ]
    },
    {
      "cell_type": "code",
      "metadata": {
        "id": "S_o1V2a5AJqk",
        "colab": {
          "base_uri": "https://localhost:8080/"
        },
        "outputId": "3b1204c0-d8a2-4f38-8d1e-d6540dd0d3bf"
      },
      "source": [
        "# Numpy example\n",
        "x_np = np.random.rand(5,3)\n",
        "print(x_np)"
      ],
      "execution_count": null,
      "outputs": [
        {
          "output_type": "stream",
          "text": [
            "[[0.2919292  0.91393647 0.3561537 ]\n",
            " [0.58949241 0.21578928 0.0491365 ]\n",
            " [0.99990074 0.57630252 0.68861249]\n",
            " [0.53755722 0.83875331 0.67719543]\n",
            " [0.83406753 0.32771742 0.60256653]]\n"
          ],
          "name": "stdout"
        }
      ]
    },
    {
      "cell_type": "code",
      "metadata": {
        "id": "SdjlUzJtABxo",
        "colab": {
          "base_uri": "https://localhost:8080/"
        },
        "outputId": "1cd0c789-4fcc-4aa8-eeab-ae29d746b697"
      },
      "source": [
        "# Pytorch example\n",
        "x_th = torch.rand(5, 3)\n",
        "print(x_th)"
      ],
      "execution_count": null,
      "outputs": [
        {
          "output_type": "stream",
          "text": [
            "tensor([[0.8609, 0.5083, 0.9444],\n",
            "        [0.1474, 0.4849, 0.7570],\n",
            "        [0.5336, 0.9543, 0.4910],\n",
            "        [0.4485, 0.1488, 0.5169],\n",
            "        [0.6819, 0.7364, 0.9087]])\n"
          ],
          "name": "stdout"
        }
      ]
    },
    {
      "cell_type": "markdown",
      "metadata": {
        "id": "6xk7vxykAmeD"
      },
      "source": [
        "Check the datatype"
      ]
    },
    {
      "cell_type": "code",
      "metadata": {
        "id": "DP5NHFutA9ir",
        "colab": {
          "base_uri": "https://localhost:8080/"
        },
        "outputId": "a076d59a-8680-4bbe-c646-930f4d987b6b"
      },
      "source": [
        "# Datatype for Numpy ndarray\n",
        "print(x_np.dtype)\n",
        "\n",
        "# Datatype for Pytorch tensor\n",
        "print(x_th.dtype)"
      ],
      "execution_count": null,
      "outputs": [
        {
          "output_type": "stream",
          "text": [
            "float64\n",
            "torch.float32\n"
          ],
          "name": "stdout"
        }
      ]
    },
    {
      "cell_type": "markdown",
      "metadata": {
        "id": "x1lntrkRB1dT"
      },
      "source": [
        "Check the size"
      ]
    },
    {
      "cell_type": "code",
      "metadata": {
        "id": "2RHzFypMB6PV",
        "colab": {
          "base_uri": "https://localhost:8080/"
        },
        "outputId": "12da8ab4-119b-4821-aa53-dc33e57b0d88"
      },
      "source": [
        "# Check size for Numpy ndarray\n",
        "print(x_np.shape)\n",
        "\n",
        "# Check size for PyTorch tensor\n",
        "print(x_th.size())"
      ],
      "execution_count": null,
      "outputs": [
        {
          "output_type": "stream",
          "text": [
            "(5, 3)\n",
            "torch.Size([5, 3])\n"
          ],
          "name": "stdout"
        }
      ]
    },
    {
      "cell_type": "markdown",
      "metadata": {
        "id": "DHcBWtdND0GM"
      },
      "source": [
        "Operations Supported"
      ]
    },
    {
      "cell_type": "code",
      "metadata": {
        "id": "NueWk_fBu6cO",
        "colab": {
          "base_uri": "https://localhost:8080/"
        },
        "outputId": "dfa293b0-a9dd-4ee9-e7fd-f9b9e9bd9170"
      },
      "source": [
        "# Numpy example\n",
        "x_np = np.array([4, 5, 10], dtype=float) # creating a numpy ndarray\n",
        "y_np = np.array([12,10, 9], dtype=float) # creating a numpy ndarray\n",
        "out_np = x_np + y_np #addition operation\n",
        "print(out_np)"
      ],
      "execution_count": null,
      "outputs": [
        {
          "output_type": "stream",
          "text": [
            "[16. 15. 19.]\n"
          ],
          "name": "stdout"
        }
      ]
    },
    {
      "cell_type": "code",
      "metadata": {
        "id": "yyYGhOqn-VJa",
        "colab": {
          "base_uri": "https://localhost:8080/"
        },
        "outputId": "035f4b0e-14ec-4156-dfd0-450a7a0555ec"
      },
      "source": [
        "# Torch example\n",
        "x_th = torch.FloatTensor([4, 5, 10]) # creating a torch tensor\n",
        "y_th = torch.FloatTensor([12,10, 9]) # creating a torch tensor\n",
        "out_th = x_th + y_th # addition operation\n",
        "print(out_th)"
      ],
      "execution_count": null,
      "outputs": [
        {
          "output_type": "stream",
          "text": [
            "tensor([16., 15., 19.])\n"
          ],
          "name": "stdout"
        }
      ]
    },
    {
      "cell_type": "markdown",
      "metadata": {
        "id": "WV19nkg9vwOO"
      },
      "source": [
        "The same addition operator can also be written as:"
      ]
    },
    {
      "cell_type": "code",
      "metadata": {
        "id": "T1ldLpXavtMm",
        "colab": {
          "base_uri": "https://localhost:8080/"
        },
        "outputId": "7c6ec9d1-b1fd-48aa-a69b-7bc8c2ef1afb"
      },
      "source": [
        "# Numpy example\n",
        "x_np = np.array([4, 5, 10], dtype=float) # creating a numpy ndarray\n",
        "y_np = np.array([12,10, 9], dtype=float) # creating a numpy ndarray\n",
        "out_np = np.add(x_np, y_np) #addition operation\n",
        "print(out_np)\n",
        "\n",
        "# Pytorch example\n",
        "x_th = torch.FloatTensor([4, 5, 10]) # creating a torch tensor\n",
        "y_th = torch.FloatTensor([12,10, 9]) # creating a torch tensor\n",
        "out_th = torch.add(x_th, y_th) # addition operation\n",
        "print(out_th)"
      ],
      "execution_count": null,
      "outputs": [
        {
          "output_type": "stream",
          "text": [
            "[16. 15. 19.]\n",
            "tensor([16., 15., 19.])\n"
          ],
          "name": "stdout"
        }
      ]
    },
    {
      "cell_type": "markdown",
      "metadata": {
        "id": "hnzsYHvSv776"
      },
      "source": [
        "Torch also supports in-place operation:\n",
        "\n",
        "**Note:** Any operation that mutates a tensor in-place is post-fixed with a _."
      ]
    },
    {
      "cell_type": "code",
      "metadata": {
        "id": "2uHRxeBWvzaJ",
        "colab": {
          "base_uri": "https://localhost:8080/"
        },
        "outputId": "7df174b8-307e-4c83-8df7-7d244ddbf2c1"
      },
      "source": [
        "y_th.add_(x_th)\n",
        "print(y_th)"
      ],
      "execution_count": null,
      "outputs": [
        {
          "output_type": "stream",
          "text": [
            "tensor([20., 20., 29.])\n"
          ],
          "name": "stdout"
        }
      ]
    },
    {
      "cell_type": "markdown",
      "metadata": {
        "id": "PyEGm2RLwDRr"
      },
      "source": [
        "Like NumPy, there are many Tensor operations, including transposing, indexing, slicing, mathematical operations, linear algebra, random numbers, etc are described here https://pytorch.org/docs/stable/tensors.html"
      ]
    },
    {
      "cell_type": "markdown",
      "metadata": {
        "id": "zqSqfQxZw6Lw"
      },
      "source": [
        "### Numpy Bridge\n",
        "\n",
        "Converting a torch Tensor to a numpy array and vice versa is a breeze.\n",
        "\n",
        "**Note:** The torch Tensor and numpy array will share their underlying memory locations, and changing one will change the other."
      ]
    },
    {
      "cell_type": "code",
      "metadata": {
        "id": "HAigJu2lv_sH",
        "colab": {
          "base_uri": "https://localhost:8080/"
        },
        "outputId": "2cd80376-8bc6-4a89-e54f-797f936d2dc4"
      },
      "source": [
        "# Converting torch Tensor to numpy Array\n",
        "x_th = torch.ones(5)\n",
        "print(x_th)"
      ],
      "execution_count": null,
      "outputs": [
        {
          "output_type": "stream",
          "text": [
            "tensor([1., 1., 1., 1., 1.])\n"
          ],
          "name": "stdout"
        }
      ]
    },
    {
      "cell_type": "code",
      "metadata": {
        "id": "nuxT0p-7xGNP",
        "colab": {
          "base_uri": "https://localhost:8080/"
        },
        "outputId": "b07f0cbb-7ea3-4b57-c45f-9361b0cdc74a"
      },
      "source": [
        "y_np = x_th.numpy()\n",
        "print(y_np)"
      ],
      "execution_count": null,
      "outputs": [
        {
          "output_type": "stream",
          "text": [
            "[1. 1. 1. 1. 1.]\n"
          ],
          "name": "stdout"
        }
      ]
    },
    {
      "cell_type": "markdown",
      "metadata": {
        "id": "pSGZ0L_fxOC0"
      },
      "source": [
        "Now, Try changing the values of the torch tensor `x_th` and then print the numpy array `y_np`"
      ]
    },
    {
      "cell_type": "code",
      "metadata": {
        "id": "0y7p6fTYxJRu",
        "colab": {
          "base_uri": "https://localhost:8080/"
        },
        "outputId": "a54a9603-446c-48eb-8c5c-3ae6b769ee03"
      },
      "source": [
        "x_th.add_(1)\n",
        "print(x_th)\n",
        "print(y_np)"
      ],
      "execution_count": null,
      "outputs": [
        {
          "output_type": "stream",
          "text": [
            "tensor([2., 2., 2., 2., 2.])\n",
            "[2. 2. 2. 2. 2.]\n"
          ],
          "name": "stdout"
        }
      ]
    },
    {
      "cell_type": "markdown",
      "metadata": {
        "id": "opdpiDyhxVwE"
      },
      "source": [
        "Converting numpy arrays to torch tensors"
      ]
    },
    {
      "cell_type": "code",
      "metadata": {
        "id": "CNj5SMO_xQft",
        "colab": {
          "base_uri": "https://localhost:8080/"
        },
        "outputId": "f607bc2a-d34b-4d24-c591-acec35bb9511"
      },
      "source": [
        "x_np = np.ones(5)\n",
        "y_th = torch.from_numpy(x_np)\n",
        "\n",
        "np.add(x_np, 1, out=x_np)\n",
        "\n",
        "print(x_np)\n",
        "print(y_th)"
      ],
      "execution_count": null,
      "outputs": [
        {
          "output_type": "stream",
          "text": [
            "[2. 2. 2. 2. 2.]\n",
            "tensor([2., 2., 2., 2., 2.], dtype=torch.float64)\n"
          ],
          "name": "stdout"
        }
      ]
    },
    {
      "cell_type": "markdown",
      "metadata": {
        "id": "OurqxapqxeMO"
      },
      "source": [
        "###  Using GPU (CUDA Tensors)"
      ]
    },
    {
      "cell_type": "code",
      "metadata": {
        "id": "UyuXPJ-yxaJy",
        "colab": {
          "base_uri": "https://localhost:8080/"
        },
        "outputId": "1f57ab41-5835-4721-d648-7d2f46c024dc"
      },
      "source": [
        "# let us run this cell only if CUDA is available\n",
        "x_th = torch.FloatTensor([4, 5, 10])\n",
        "y_th = torch.FloatTensor([12,10, 9])\n",
        "\n",
        "if torch.cuda.is_available():\n",
        "    x_th = x_th.to('cuda')\n",
        "    y_th = y_th.to('cuda')\n",
        "    x_th.add_(y_th)\n",
        "    \n",
        "print(x_th)\n",
        "print(x_th.dtype)"
      ],
      "execution_count": null,
      "outputs": [
        {
          "output_type": "stream",
          "text": [
            "tensor([16., 15., 19.], device='cuda:0')\n",
            "torch.float32\n"
          ],
          "name": "stdout"
        }
      ]
    },
    {
      "cell_type": "markdown",
      "metadata": {
        "id": "I82arIYVyi7C"
      },
      "source": [
        "### Autograd: automatic differentiation\n",
        "\n",
        "Now we will look at the more advanced features of a Pytorch tensor. A pytorch tensor has three primary attributes, `.data`, `.grad`, and `.grad_fn`. You can access the raw values stored in the tensor with the `.data` attribute and the gradient with respect to this tensor is stored into `.grad`. The third attribute `.grad_fn` a _function/operation_ object that created the tensor.\n",
        "\n",
        "Any function/operation in Pytorch also has two basic components, the `forward()` function computes the operation being performed and the `backward()` function computes the gradient of the operation.\n",
        "\n",
        "![](https://drive.google.com/uc?export=view&id=1TVAPtG6wGMxuXWkFK33bu5kmORqFcO-I)\n",
        "\n",
        "The **autograd** package in Pytorch provides the functionality of automatic differentiation. This automates the process of computing gradients of the operations (or the backward passes). When using _autograd_, the forward pass of the operation defines a _computational graph_, where the nodes in the graph will be tensors, and the edges will be the functions that produce output tensors from input tensors. Thus, backpropagating through this graph allows you to easily compute gradients. Using _autograd_ is pretty simple in practice. Every tensor in the computational graph that has its attribute `.requires_grad` set to `True` will compute the gradient automatically when you will call the `.backward()` function. To stop a tensor from tracking history, you can call `.detach()` to detach it from the computation history, and to prevent future computation from being tracked.\n",
        "\n",
        "Let's now see this in action through examples."
      ]
    },
    {
      "cell_type": "code",
      "metadata": {
        "id": "kq-o9YaUx5xG",
        "colab": {
          "base_uri": "https://localhost:8080/"
        },
        "outputId": "6d377300-256d-413e-a535-df1fe4c6d441"
      },
      "source": [
        "x_th = torch.ones(2, 2, requires_grad=True)\n",
        "print(x_th)\n",
        "print(x_th.data)"
      ],
      "execution_count": null,
      "outputs": [
        {
          "output_type": "stream",
          "text": [
            "tensor([[1., 1.],\n",
            "        [1., 1.]], requires_grad=True)\n",
            "tensor([[1., 1.],\n",
            "        [1., 1.]])\n"
          ],
          "name": "stdout"
        }
      ]
    },
    {
      "cell_type": "code",
      "metadata": {
        "id": "7Ea9qL-3x95_",
        "colab": {
          "base_uri": "https://localhost:8080/"
        },
        "outputId": "85d13c1f-aca5-4d63-ffe8-9dd4824a72c2"
      },
      "source": [
        "y_th = x_th + 2\n",
        "print(y_th)"
      ],
      "execution_count": null,
      "outputs": [
        {
          "output_type": "stream",
          "text": [
            "tensor([[3., 3.],\n",
            "        [3., 3.]], grad_fn=<AddBackward0>)\n"
          ],
          "name": "stdout"
        }
      ]
    },
    {
      "cell_type": "markdown",
      "metadata": {
        "id": "BpCZ0SxlzNlJ"
      },
      "source": [
        "`y` was created as a result of an operation, so it has a grad_fn."
      ]
    },
    {
      "cell_type": "code",
      "metadata": {
        "id": "Us1_H_gazJJU",
        "colab": {
          "base_uri": "https://localhost:8080/"
        },
        "outputId": "6f9ab1f0-07c8-4d10-acd4-e590037f018c"
      },
      "source": [
        "print(y_th.grad_fn)"
      ],
      "execution_count": null,
      "outputs": [
        {
          "output_type": "stream",
          "text": [
            "<AddBackward0 object at 0x7f7f4144de48>\n"
          ],
          "name": "stdout"
        }
      ]
    },
    {
      "cell_type": "code",
      "metadata": {
        "id": "3wY-pojMzRYH",
        "colab": {
          "base_uri": "https://localhost:8080/"
        },
        "outputId": "26743f25-75db-4f5d-e386-0f5ee57bbed0"
      },
      "source": [
        "z_th = y_th * y_th * 3\n",
        "out_th = z_th.mean()\n",
        "print(z_th, out_th)"
      ],
      "execution_count": null,
      "outputs": [
        {
          "output_type": "stream",
          "text": [
            "tensor([[27., 27.],\n",
            "        [27., 27.]], grad_fn=<MulBackward0>) tensor(27., grad_fn=<MeanBackward0>)\n"
          ],
          "name": "stdout"
        }
      ]
    },
    {
      "cell_type": "markdown",
      "metadata": {
        "id": "9SbEKjnczi5V"
      },
      "source": [
        "**Gradients**\n",
        "\n",
        "Let’s backprop now Because out contains a single scalar, `out_th.backward()` is equivalent to `out_th.backward(torch.tensor(1))`."
      ]
    },
    {
      "cell_type": "code",
      "metadata": {
        "id": "mO1V3Getzdr5",
        "colab": {
          "base_uri": "https://localhost:8080/"
        },
        "outputId": "dee61b7e-c170-4d9a-ec56-35812350a24b"
      },
      "source": [
        "out_th.backward()\n",
        "print(x_th.grad)"
      ],
      "execution_count": null,
      "outputs": [
        {
          "output_type": "stream",
          "text": [
            "tensor([[4.5000, 4.5000],\n",
            "        [4.5000, 4.5000]])\n"
          ],
          "name": "stdout"
        }
      ]
    },
    {
      "cell_type": "markdown",
      "metadata": {
        "id": "lujk7I7STU1_"
      },
      "source": [
        " We got the tensor matrix of `4.5`. Lets call the out tensor \"O\". so we have that $O = \\frac{1}{4} \\sum_i z_i$, ​   $z_i​ = 3 (x_i ​+ 2)^2$ and $z_i​\\mid_{x_i=1} ​= 27$. Therefore $\\frac{\\partial O}{\\partial x_i} = 4.5$. \n",
        "\n",
        " Let's see a more concrete example."
      ]
    },
    {
      "cell_type": "code",
      "metadata": {
        "id": "OahbEnxBTYi5",
        "colab": {
          "base_uri": "https://localhost:8080/",
          "height": 282
        },
        "outputId": "94d8881e-9c6c-4e23-c4bb-75574b1d076d"
      },
      "source": [
        "import matplotlib.pyplot as plt \n",
        "%matplotlib inline\n",
        "\n",
        "x = torch.linspace(-10.0,10.0,10, requires_grad=True)\n",
        "Y = x**2\n",
        "y = torch.sum(x**2)     \n",
        "y.backward()\n",
        "\n",
        "plt.plot(x.detach().numpy(), Y.detach().numpy(), label=\"Y\")\n",
        "plt.plot(x.detach().numpy(), x.grad.detach().numpy(), label=\"derivatives\")\n",
        "plt.legend()"
      ],
      "execution_count": null,
      "outputs": [
        {
          "output_type": "execute_result",
          "data": {
            "text/plain": [
              "<matplotlib.legend.Legend at 0x7f0c6805ed68>"
            ]
          },
          "metadata": {
            "tags": []
          },
          "execution_count": 21
        },
        {
          "output_type": "display_data",
          "data": {
            "image/png": "[encoded data removed]",
            "text/plain": [
              "<Figure size 432x288 with 1 Axes>"
            ]
          },
          "metadata": {
            "tags": [],
            "needs_background": "light"
          }
        }
      ]
    },
    {
      "cell_type": "markdown",
      "metadata": {
        "id": "Cu0DHBtgz5Hv"
      },
      "source": [
        "For the documentation, read here [link](https://pytorch.org/docs/stable/autograd.html). \n",
        " \n",
        " You can learn more about PyTorch here [link](https://pytorch.org/tutorials/beginner/deep_learning_60min_blitz.html) [Recommended]"
      ]
    }
  ]
}