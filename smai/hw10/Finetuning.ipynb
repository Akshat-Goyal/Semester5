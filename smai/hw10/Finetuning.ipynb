{
  "nbformat": 4,
  "nbformat_minor": 0,
  "metadata": {
    "colab": {
      "name": "Finetuning.ipynb",
      "provenance": []
    },
    "kernelspec": {
      "name": "python3",
      "display_name": "Python 3"
    },
    "accelerator": "GPU",
    "widgets": {
      "application/vnd.jupyter.widget-state+json": {
        "0ba65dba8ddc484a9c1b7201b33f144a": {
          "model_module": "@jupyter-widgets/controls",
          "model_name": "HBoxModel",
          "state": {
            "_view_name": "HBoxView",
            "_dom_classes": [],
            "_model_name": "HBoxModel",
            "_view_module": "@jupyter-widgets/controls",
            "_model_module_version": "1.5.0",
            "_view_count": null,
            "_view_module_version": "1.5.0",
            "box_style": "",
            "layout": "IPY_MODEL_1b469719bd7840579d408295a0af6b4e",
            "_model_module": "@jupyter-widgets/controls",
            "children": [
              "IPY_MODEL_c10f045eefcf4fe7bd18c727acc06b38",
              "IPY_MODEL_cb87bb955ece4b68843fcafdd2068952"
            ]
          }
        },
        "1b469719bd7840579d408295a0af6b4e": {
          "model_module": "@jupyter-widgets/base",
          "model_name": "LayoutModel",
          "state": {
            "_view_name": "LayoutView",
            "grid_template_rows": null,
            "right": null,
            "justify_content": null,
            "_view_module": "@jupyter-widgets/base",
            "overflow": null,
            "_model_module_version": "1.2.0",
            "_view_count": null,
            "flex_flow": null,
            "width": null,
            "min_width": null,
            "border": null,
            "align_items": null,
            "bottom": null,
            "_model_module": "@jupyter-widgets/base",
            "top": null,
            "grid_column": null,
            "overflow_y": null,
            "overflow_x": null,
            "grid_auto_flow": null,
            "grid_area": null,
            "grid_template_columns": null,
            "flex": null,
            "_model_name": "LayoutModel",
            "justify_items": null,
            "grid_row": null,
            "max_height": null,
            "align_content": null,
            "visibility": null,
            "align_self": null,
            "height": null,
            "min_height": null,
            "padding": null,
            "grid_auto_rows": null,
            "grid_gap": null,
            "max_width": null,
            "order": null,
            "_view_module_version": "1.2.0",
            "grid_template_areas": null,
            "object_position": null,
            "object_fit": null,
            "grid_auto_columns": null,
            "margin": null,
            "display": null,
            "left": null
          }
        },
        "c10f045eefcf4fe7bd18c727acc06b38": {
          "model_module": "@jupyter-widgets/controls",
          "model_name": "FloatProgressModel",
          "state": {
            "_view_name": "ProgressView",
            "style": "IPY_MODEL_e508dcad72174652a5bc79525e8ac857",
            "_dom_classes": [],
            "description": "100%",
            "_model_name": "FloatProgressModel",
            "bar_style": "success",
            "max": 244418560,
            "_view_module": "@jupyter-widgets/controls",
            "_model_module_version": "1.5.0",
            "value": 244418560,
            "_view_count": null,
            "_view_module_version": "1.5.0",
            "orientation": "horizontal",
            "min": 0,
            "description_tooltip": null,
            "_model_module": "@jupyter-widgets/controls",
            "layout": "IPY_MODEL_6042282d106d404aafcdceab0fd94388"
          }
        },
        "cb87bb955ece4b68843fcafdd2068952": {
          "model_module": "@jupyter-widgets/controls",
          "model_name": "HTMLModel",
          "state": {
            "_view_name": "HTMLView",
            "style": "IPY_MODEL_00805a54f1494165a1f28a3903abba5d",
            "_dom_classes": [],
            "description": "",
            "_model_name": "HTMLModel",
            "placeholder": "​",
            "_view_module": "@jupyter-widgets/controls",
            "_model_module_version": "1.5.0",
            "value": " 233M/233M [09:14&lt;00:00, 441kB/s]",
            "_view_count": null,
            "_view_module_version": "1.5.0",
            "description_tooltip": null,
            "_model_module": "@jupyter-widgets/controls",
            "layout": "IPY_MODEL_eae74e1b43ae473c91c8360746852038"
          }
        },
        "e508dcad72174652a5bc79525e8ac857": {
          "model_module": "@jupyter-widgets/controls",
          "model_name": "ProgressStyleModel",
          "state": {
            "_view_name": "StyleView",
            "_model_name": "ProgressStyleModel",
            "description_width": "initial",
            "_view_module": "@jupyter-widgets/base",
            "_model_module_version": "1.5.0",
            "_view_count": null,
            "_view_module_version": "1.2.0",
            "bar_color": null,
            "_model_module": "@jupyter-widgets/controls"
          }
        },
        "6042282d106d404aafcdceab0fd94388": {
          "model_module": "@jupyter-widgets/base",
          "model_name": "LayoutModel",
          "state": {
            "_view_name": "LayoutView",
            "grid_template_rows": null,
            "right": null,
            "justify_content": null,
            "_view_module": "@jupyter-widgets/base",
            "overflow": null,
            "_model_module_version": "1.2.0",
            "_view_count": null,
            "flex_flow": null,
            "width": null,
            "min_width": null,
            "border": null,
            "align_items": null,
            "bottom": null,
            "_model_module": "@jupyter-widgets/base",
            "top": null,
            "grid_column": null,
            "overflow_y": null,
            "overflow_x": null,
            "grid_auto_flow": null,
            "grid_area": null,
            "grid_template_columns": null,
            "flex": null,
            "_model_name": "LayoutModel",
            "justify_items": null,
            "grid_row": null,
            "max_height": null,
            "align_content": null,
            "visibility": null,
            "align_self": null,
            "height": null,
            "min_height": null,
            "padding": null,
            "grid_auto_rows": null,
            "grid_gap": null,
            "max_width": null,
            "order": null,
            "_view_module_version": "1.2.0",
            "grid_template_areas": null,
            "object_position": null,
            "object_fit": null,
            "grid_auto_columns": null,
            "margin": null,
            "display": null,
            "left": null
          }
        },
        "00805a54f1494165a1f28a3903abba5d": {
          "model_module": "@jupyter-widgets/controls",
          "model_name": "DescriptionStyleModel",
          "state": {
            "_view_name": "StyleView",
            "_model_name": "DescriptionStyleModel",
            "description_width": "",
            "_view_module": "@jupyter-widgets/base",
            "_model_module_version": "1.5.0",
            "_view_count": null,
            "_view_module_version": "1.2.0",
            "_model_module": "@jupyter-widgets/controls"
          }
        },
        "eae74e1b43ae473c91c8360746852038": {
          "model_module": "@jupyter-widgets/base",
          "model_name": "LayoutModel",
          "state": {
            "_view_name": "LayoutView",
            "grid_template_rows": null,
            "right": null,
            "justify_content": null,
            "_view_module": "@jupyter-widgets/base",
            "overflow": null,
            "_model_module_version": "1.2.0",
            "_view_count": null,
            "flex_flow": null,
            "width": null,
            "min_width": null,
            "border": null,
            "align_items": null,
            "bottom": null,
            "_model_module": "@jupyter-widgets/base",
            "top": null,
            "grid_column": null,
            "overflow_y": null,
            "overflow_x": null,
            "grid_auto_flow": null,
            "grid_area": null,
            "grid_template_columns": null,
            "flex": null,
            "_model_name": "LayoutModel",
            "justify_items": null,
            "grid_row": null,
            "max_height": null,
            "align_content": null,
            "visibility": null,
            "align_self": null,
            "height": null,
            "min_height": null,
            "padding": null,
            "grid_auto_rows": null,
            "grid_gap": null,
            "max_width": null,
            "order": null,
            "_view_module_version": "1.2.0",
            "grid_template_areas": null,
            "object_position": null,
            "object_fit": null,
            "grid_auto_columns": null,
            "margin": null,
            "display": null,
            "left": null
          }
        }
      }
    }
  },
  "cells": [
    {
      "cell_type": "code",
      "metadata": {
        "id": "hKKHm7IdXiM2",
        "colab": {
          "base_uri": "https://localhost:8080/"
        },
        "outputId": "069e698b-3dd6-4c22-e510-ac6520df19b4"
      },
      "source": [
        "from google.colab import drive\n",
        "drive.mount('/content/drive')"
      ],
      "execution_count": null,
      "outputs": [
        {
          "output_type": "stream",
          "text": [
            "Mounted at /content/drive\n"
          ],
          "name": "stdout"
        }
      ]
    },
    {
      "cell_type": "markdown",
      "metadata": {
        "id": "3ISIieY7P6HI"
      },
      "source": [
        "# Finetuning\n",
        "\n",
        "We saw in the earlier notebook that training a deep neural network requires a lot of training examples. When such a deep neural network is trained, the initial layers learn generic set of features and the later layers can be thought of as classifying those generic features. Hence, one can use pretrained features from networks that are trained on a big dataset to a new related problem where data is scarce.\n",
        "\n",
        "In this tutorial, we will see we will learn how to train the network using transfer learning to further improve these features to our task. We will use alexnet architecture, that is trained on 1000-class ImageNet dataset. \n",
        "\n",
        "In this document we will perform transfer learning by two types of finetuning. First, we start with a pretrained model and update all of the model’s parameters for our new task, in essence retraining the whole model. Second, we start with a pretrained model and only update the final layer weights from which we derive predictions. In this we use the pretrained CNN as a fixed feature-extractor, and only change the output layer.\n",
        "\n",
        "In general both transfer learning methods follow the same few steps:\n",
        "- Initialize the pretrained model\n",
        "- Reshape the final layer(s) to have the same number of outputs as the number of classes in the new dataset\n",
        "- Define for the optimization algorithm which parameters we want to update during training\n",
        "- Run the training step"
      ]
    },
    {
      "cell_type": "code",
      "metadata": {
        "id": "A0wXG-onPh46"
      },
      "source": [
        "from __future__ import print_function \n",
        "from __future__ import division\n",
        "\n",
        "import torch\n",
        "import torch.nn as nn\n",
        "import torch.optim as optim\n",
        "\n",
        "import numpy as np\n",
        "\n",
        "import torchvision\n",
        "from torchvision import datasets, models, transforms\n",
        "\n",
        "import matplotlib.pyplot as plt\n",
        "\n",
        "import time\n",
        "import os\n",
        "import copy"
      ],
      "execution_count": null,
      "outputs": []
    },
    {
      "cell_type": "markdown",
      "metadata": {
        "id": "TQRJH1CWUC6g"
      },
      "source": [
        "## Input\n",
        "\n",
        "Here are all of the parameters to change for the run. We will use the hymenoptera_data dataset which can be downloaded here <https://download.pytorch.org/tutorial/hymenoptera_data.zip>. This dataset contains two classes, bees and ants, and is structured such that we can use the ImageFolder <https://pytorch.org/docs/stable/torchvision/datasets.html#torchvision.datasets.ImageFolder> dataset, rather than writing our own custom dataset. Download the data and set the data_dir input to the root directory of the dataset. We will be using AlexNet as our deep neural network model that we wish to finetune."
      ]
    },
    {
      "cell_type": "code",
      "metadata": {
        "id": "2RAwc3tJRaO9"
      },
      "source": [
        "# Top level data directory. Here we assume the format of the directory conforms \n",
        "#   to the ImageFolder structure\n",
        "data_dir = \"/content/drive/My Drive/Colab Notebooks/hymenoptera_data\"\n",
        "\n",
        "# Models to choose from [resnet, alexnet, vgg, squeezenet, densenet, inception]\n",
        "model_name = \"alexnet\"\n",
        "\n",
        "# Number of classes in the dataset\n",
        "num_classes = 2\n",
        "\n",
        "# Batch size for training (change depending on how much memory you have)\n",
        "batch_size = 8\n",
        "\n",
        "# Number of epochs to train for \n",
        "num_epochs = 15\n",
        "\n",
        "# Flag for feature extracting. When False, we finetune the whole model, \n",
        "#   when True we only update the reshaped layer params\n",
        "feature_extract = True"
      ],
      "execution_count": null,
      "outputs": []
    },
    {
      "cell_type": "markdown",
      "metadata": {
        "id": "6S2Kt7c5YwBD"
      },
      "source": [
        "## Helper functions\n",
        "\n",
        "Before we write the code for adjusting the models, lets define a few helper functions.\n",
        "\n",
        "Model Training and Validation Code\n",
        "\n",
        "```\n",
        "The ``train_model`` function handles the training and validation of a\n",
        "given model. As input, it takes a PyTorch model, a dictionary of\n",
        "dataloaders, a loss function, an optimizer, a specified number of epochs\n",
        "to train and validate for, and a boolean flag for when the model is an\n",
        "Inception model. It also keeps track of the best performing model (in terms of validation \n",
        "accuracy), and at the end of training returns the best performing model. After each epoch, \n",
        "the training and validation accuracies are printed.\n",
        "```"
      ]
    },
    {
      "cell_type": "code",
      "metadata": {
        "id": "_1jt_DoYUsSb"
      },
      "source": [
        "def train_model(model, dataloaders, criterion, optimizer, num_epochs=25):\n",
        "    since = time.time()\n",
        "\n",
        "    val_acc_history = []\n",
        "    \n",
        "    best_model_wts = copy.deepcopy(model.state_dict())\n",
        "    best_acc = 0.0\n",
        "\n",
        "    for epoch in range(num_epochs):\n",
        "        print('Epoch {}/{}'.format(epoch, num_epochs - 1))\n",
        "        print('-' * 10)\n",
        "\n",
        "        # Each epoch has a training and validation phase\n",
        "        for phase in ['train', 'val']:\n",
        "            if phase == 'train':\n",
        "                model.train()  # Set model to training mode\n",
        "            else:\n",
        "                model.eval()   # Set model to evaluate mode\n",
        "\n",
        "            running_loss = 0.0\n",
        "            running_corrects = 0\n",
        "\n",
        "            # Iterate over data.\n",
        "            for inputs, labels in dataloaders[phase]:\n",
        "                inputs = inputs.to(device)\n",
        "                labels = labels.to(device)\n",
        "\n",
        "                # zero the parameter gradients\n",
        "                optimizer.zero_grad()\n",
        "\n",
        "                # forward\n",
        "                # track history if only in train\n",
        "                with torch.set_grad_enabled(phase == 'train'):\n",
        "                    # Get model outputs and calculate loss\n",
        "                    outputs = model(inputs)\n",
        "                    loss = criterion(outputs, labels)\n",
        "\n",
        "                    _, preds = torch.max(outputs, 1)\n",
        "\n",
        "                    # backward + optimize only if in training phase\n",
        "                    if phase == 'train':\n",
        "                        loss.backward()\n",
        "                        optimizer.step()\n",
        "\n",
        "                # statistics\n",
        "                running_loss += loss.item() * inputs.size(0)\n",
        "                running_corrects += torch.sum(preds == labels.data)\n",
        "\n",
        "            epoch_loss = running_loss / len(dataloaders[phase].dataset)\n",
        "            epoch_acc = running_corrects.double() / len(dataloaders[phase].dataset)\n",
        "\n",
        "            print('{} Loss: {:.4f} Acc: {:.4f}'.format(phase, epoch_loss, epoch_acc))\n",
        "\n",
        "            # deep copy the model\n",
        "            if phase == 'val' and epoch_acc > best_acc:\n",
        "                best_acc = epoch_acc\n",
        "                best_model_wts = copy.deepcopy(model.state_dict())\n",
        "            if phase == 'val':\n",
        "                val_acc_history.append(epoch_acc)\n",
        "\n",
        "        print()\n",
        "\n",
        "    time_elapsed = time.time() - since\n",
        "    print('Training complete in {:.0f}m {:.0f}s'.format(time_elapsed // 60, time_elapsed % 60))\n",
        "    print('Best val Acc: {:4f}'.format(best_acc))\n",
        "\n",
        "    # load best model weights\n",
        "    model.load_state_dict(best_model_wts)\n",
        "    return model, val_acc_history"
      ],
      "execution_count": null,
      "outputs": []
    },
    {
      "cell_type": "markdown",
      "metadata": {
        "id": "5kGf8zUTYziy"
      },
      "source": [
        "Set Model Parameters’ .requires_grad attribute\n",
        "\n",
        "```\n",
        "This helper function sets the ``.requires_grad`` attribute of the\n",
        "parameters in the model to False when we are feature extracting. By\n",
        "default, when we load a pretrained model all of the parameters have\n",
        "``.requires_grad=True``, which is fine if we are training from scratch\n",
        "or finetuning. However, if we are feature extracting and only want to\n",
        "compute gradients for the newly initialized layer then we want all of\n",
        "the other parameters to not require gradients. This will make more sense\n",
        "later.\n",
        "```"
      ]
    },
    {
      "cell_type": "code",
      "metadata": {
        "id": "bpbi00SUVeus"
      },
      "source": [
        "def set_parameter_requires_grad(model, feature_extracting):\n",
        "    if feature_extracting:\n",
        "        for param in model.parameters():\n",
        "            param.requires_grad = False"
      ],
      "execution_count": null,
      "outputs": []
    },
    {
      "cell_type": "markdown",
      "metadata": {
        "id": "z0iR9wRIZYfJ"
      },
      "source": [
        "## Initialize and reshape the network\n",
        "\n",
        "Now to the most interesting part. Here is where we handle the reshaping of the network. Note, this is not an automatic procedure and is unique to a model. Recall, the final layer of a CNN model, which is often times an FC layer, has the same number of nodes as the number of output classes in the dataset. Since all of the models have been pretrained on Imagenet, they all have output layers of size 1000, one node for each class. The goal here is to reshape the last layer to have the same number of inputs as before, AND to have the same number of outputs as the number of classes in the dataset. In the following sections we will discuss how to alter the architecture of each model individually. But first, there is one important detail regarding the difference between the two modes of fine-tuning\n",
        "\n",
        "When feature extracting, we only want to update the parameters of the last layer, or in other words, we only want to update the parameters for the layer(s) we are reshaping. Therefore, we do not need to compute the gradients of the parameters that we are not changing, so for efficiency we set the .`requires_grad` attribute to `False`. This is important because by default, this attribute is set to `True`. Then, when we initialize the new layer and by default the new parameters have `.requires_grad=True` so only the new layer’s parameters will be updated. When we are finetuning all the layers, we can leave all of the `.required_grad`’s set to the default of `True`.\n",
        "\n",
        "Now, we will specifically look at Alexnet. Alexnet was introduced in the paper ImageNet Classification with Deep Convolutional Neural Networks <https://papers.nips.cc/paper/4824-imagenet-classification-with-deep-convolutional-neural-networks.pdf>__ and was the first very successful CNN on the ImageNet dataset. When we print the model architecture, we see the model output comes from the 6th layer of the classifier\n",
        "\n",
        "::\n",
        "```\n",
        "(classifier): Sequential( ... (6): Linear(in_features=4096, out_features=1000, bias=True) )\n",
        "```\n",
        "To use the model with our dataset we reinitialize this layer as\n",
        "\n",
        "::\n",
        "\n",
        "`model.classifier[6] = nn.Linear(4096,num_classes)`"
      ]
    },
    {
      "cell_type": "code",
      "metadata": {
        "id": "FsXjk7qjVfM2",
        "colab": {
          "base_uri": "https://localhost:8080/",
          "height": 536,
          "referenced_widgets": [
            "0ba65dba8ddc484a9c1b7201b33f144a",
            "1b469719bd7840579d408295a0af6b4e",
            "c10f045eefcf4fe7bd18c727acc06b38",
            "cb87bb955ece4b68843fcafdd2068952",
            "e508dcad72174652a5bc79525e8ac857",
            "6042282d106d404aafcdceab0fd94388",
            "00805a54f1494165a1f28a3903abba5d",
            "eae74e1b43ae473c91c8360746852038"
          ]
        },
        "outputId": "d142a37a-86d1-43dd-beae-cba33a05c849"
      },
      "source": [
        "def initialize_model(model_name, num_classes, feature_extract, use_pretrained=True):\n",
        "    # Initialize these variables which will be set in this if statement. Each of these\n",
        "    #   variables is model specific.\n",
        "    model_ft = None\n",
        "    input_size = 0\n",
        "\n",
        "    \"\"\" Alexnet\n",
        "    \"\"\"\n",
        "    model_ft = models.alexnet(pretrained=use_pretrained)\n",
        "    set_parameter_requires_grad(model_ft, feature_extract)\n",
        "    num_ftrs = model_ft.classifier[6].in_features\n",
        "    model_ft.classifier[6] = nn.Linear(num_ftrs,num_classes)\n",
        "    input_size = 224\n",
        "    \n",
        "    return model_ft, input_size\n",
        "\n",
        "# Initialize the model for this run\n",
        "model_ft, input_size = initialize_model(model_name, num_classes, feature_extract, use_pretrained=True)\n",
        "\n",
        "# Print the model we just instantiated\n",
        "print(model_ft)"
      ],
      "execution_count": null,
      "outputs": [
        {
          "output_type": "stream",
          "text": [
            "Downloading: \"https://download.pytorch.org/models/alexnet-owt-4df8aa71.pth\" to /root/.cache/torch/hub/checkpoints/alexnet-owt-4df8aa71.pth\n"
          ],
          "name": "stderr"
        },
        {
          "output_type": "display_data",
          "data": {
            "application/vnd.jupyter.widget-view+json": {
              "model_id": "0ba65dba8ddc484a9c1b7201b33f144a",
              "version_minor": 0,
              "version_major": 2
            },
            "text/plain": [
              "HBox(children=(FloatProgress(value=0.0, max=244418560.0), HTML(value='')))"
            ]
          },
          "metadata": {
            "tags": []
          }
        },
        {
          "output_type": "stream",
          "text": [
            "\n",
            "AlexNet(\n",
            "  (features): Sequential(\n",
            "    (0): Conv2d(3, 64, kernel_size=(11, 11), stride=(4, 4), padding=(2, 2))\n",
            "    (1): ReLU(inplace=True)\n",
            "    (2): MaxPool2d(kernel_size=3, stride=2, padding=0, dilation=1, ceil_mode=False)\n",
            "    (3): Conv2d(64, 192, kernel_size=(5, 5), stride=(1, 1), padding=(2, 2))\n",
            "    (4): ReLU(inplace=True)\n",
            "    (5): MaxPool2d(kernel_size=3, stride=2, padding=0, dilation=1, ceil_mode=False)\n",
            "    (6): Conv2d(192, 384, kernel_size=(3, 3), stride=(1, 1), padding=(1, 1))\n",
            "    (7): ReLU(inplace=True)\n",
            "    (8): Conv2d(384, 256, kernel_size=(3, 3), stride=(1, 1), padding=(1, 1))\n",
            "    (9): ReLU(inplace=True)\n",
            "    (10): Conv2d(256, 256, kernel_size=(3, 3), stride=(1, 1), padding=(1, 1))\n",
            "    (11): ReLU(inplace=True)\n",
            "    (12): MaxPool2d(kernel_size=3, stride=2, padding=0, dilation=1, ceil_mode=False)\n",
            "  )\n",
            "  (avgpool): AdaptiveAvgPool2d(output_size=(6, 6))\n",
            "  (classifier): Sequential(\n",
            "    (0): Dropout(p=0.5, inplace=False)\n",
            "    (1): Linear(in_features=9216, out_features=4096, bias=True)\n",
            "    (2): ReLU(inplace=True)\n",
            "    (3): Dropout(p=0.5, inplace=False)\n",
            "    (4): Linear(in_features=4096, out_features=4096, bias=True)\n",
            "    (5): ReLU(inplace=True)\n",
            "    (6): Linear(in_features=4096, out_features=2, bias=True)\n",
            "  )\n",
            ")\n"
          ],
          "name": "stdout"
        }
      ]
    },
    {
      "cell_type": "markdown",
      "metadata": {
        "id": "Cm2Fw1yMaxa8"
      },
      "source": [
        "## Load Data\n",
        "\n",
        "Now that we know what the input size must be, we can initialize the data transforms, image datasets, and the dataloaders. Notice, the models were pretrained with the hard-coded normalization values, as described here <https://pytorch.org/docs/master/torchvision/models.html>__."
      ]
    },
    {
      "cell_type": "code",
      "metadata": {
        "id": "EaUfoV80WWqe",
        "colab": {
          "base_uri": "https://localhost:8080/"
        },
        "outputId": "bc29d739-5fd2-4474-dde3-6f0a9c407dd1"
      },
      "source": [
        "# Data augmentation and normalization for training\n",
        "# Just normalization for validation\n",
        "data_transforms = {\n",
        "    'train': transforms.Compose([\n",
        "        transforms.RandomResizedCrop(input_size),\n",
        "        transforms.RandomHorizontalFlip(),\n",
        "        transforms.ToTensor(),\n",
        "        transforms.Normalize([0.485, 0.456, 0.406], [0.229, 0.224, 0.225])\n",
        "    ]),\n",
        "    'val': transforms.Compose([\n",
        "        transforms.Resize(input_size),\n",
        "        transforms.CenterCrop(input_size),\n",
        "        transforms.ToTensor(),\n",
        "        transforms.Normalize([0.485, 0.456, 0.406], [0.229, 0.224, 0.225])\n",
        "    ]),\n",
        "}\n",
        "\n",
        "print(\"Initializing Datasets and Dataloaders...\")\n",
        "\n",
        "# Create training and validation datasets\n",
        "image_datasets = {x: datasets.ImageFolder(os.path.join(data_dir, x), data_transforms[x]) for x in ['train', 'val']}\n",
        "# Create training and validation dataloaders\n",
        "dataloaders_dict = {x: torch.utils.data.DataLoader(image_datasets[x], batch_size=batch_size, shuffle=True, num_workers=4) for x in ['train', 'val']}\n",
        "\n",
        "# Detect if we have a GPU available\n",
        "device = torch.device(\"cuda:0\" if torch.cuda.is_available() else \"cpu\")"
      ],
      "execution_count": null,
      "outputs": [
        {
          "output_type": "stream",
          "text": [
            "Initializing Datasets and Dataloaders...\n"
          ],
          "name": "stdout"
        }
      ]
    },
    {
      "cell_type": "markdown",
      "metadata": {
        "id": "z18XnbZaa6-s"
      },
      "source": [
        "## Create the Optimizer\n",
        "\n",
        "Now that the model structure is correct, the final step for finetuning\n",
        "and feature extracting is to create an optimizer that only updates the\n",
        "desired parameters. Recall that after loading the pretrained model, but\n",
        "before reshaping, if ``feature_extract=True`` we manually set all of the\n",
        "parameter’s ``.requires_grad`` attributes to False. Then the\n",
        "reinitialized layer’s parameters have ``.requires_grad=True`` by\n",
        "default. So now we know that all parameters that have\n",
        "``.requires_grad=True`` should be optimized. Next, we make a list of such\n",
        "parameters and input this list to the SGD algorithm constructor.\n",
        "\n",
        "To verify this, check out the printed parameters to learn. When\n",
        "finetuning, this list should be long and include all of the model\n",
        "parameters. However, when feature extracting this list should be short\n",
        "and only include the weights and biases of the reshaped layers.\n",
        "\n",
        "\n"
      ]
    },
    {
      "cell_type": "code",
      "metadata": {
        "id": "9APZHBKIWrEr",
        "colab": {
          "base_uri": "https://localhost:8080/"
        },
        "outputId": "90aa85ed-2d1e-4027-8b39-7bdcf205533d"
      },
      "source": [
        "# Send the model to GPU\n",
        "model_ft = model_ft.to(device)\n",
        "\n",
        "# Gather the parameters to be optimized/updated in this run. If we are\n",
        "#  finetuning we will be updating all parameters. However, if we are \n",
        "#  doing feature extract method, we will only update the parameters\n",
        "#  that we have just initialized, i.e. the parameters with requires_grad\n",
        "#  is True.\n",
        "params_to_update = model_ft.parameters()\n",
        "print(\"Params to learn:\")\n",
        "if feature_extract:\n",
        "    params_to_update = []\n",
        "    for name,param in model_ft.named_parameters():\n",
        "        if param.requires_grad == True:\n",
        "            params_to_update.append(param)\n",
        "            print(\"\\t\",name)\n",
        "else:\n",
        "    for name,param in model_ft.named_parameters():\n",
        "        if param.requires_grad == True:\n",
        "            print(\"\\t\",name)\n",
        "\n",
        "# Observe that all parameters are being optimized\n",
        "optimizer_ft = optim.SGD(params_to_update, lr=0.001, momentum=0.9)"
      ],
      "execution_count": null,
      "outputs": [
        {
          "output_type": "stream",
          "text": [
            "Params to learn:\n",
            "\t classifier.6.weight\n",
            "\t classifier.6.bias\n"
          ],
          "name": "stdout"
        }
      ]
    },
    {
      "cell_type": "markdown",
      "metadata": {
        "id": "0_2E4_ifbK9q"
      },
      "source": [
        "## Run Training and Validation Step\n",
        "\n",
        "Finally, the last step is to setup the loss for the model, then run the\n",
        "training and validation function for the set number of epochs. Notice,\n",
        "depending on the number of epochs this step may take a while on a CPU.\n",
        "Also, the default learning rate is not optimal for all of the models, so\n",
        "to achieve maximum accuracy it would be necessary to tune for each model\n",
        "separately."
      ]
    },
    {
      "cell_type": "code",
      "metadata": {
        "id": "XoKW0SiDYJb1",
        "colab": {
          "base_uri": "https://localhost:8080/"
        },
        "outputId": "b3c8069d-59b2-4a57-dff2-58b3e0a6af80"
      },
      "source": [
        "# Setup the loss fxn\n",
        "criterion = nn.CrossEntropyLoss()\n",
        "\n",
        "# Train and evaluate\n",
        "model_ft, hist = train_model(model_ft, dataloaders_dict, criterion, optimizer_ft, num_epochs=num_epochs)"
      ],
      "execution_count": null,
      "outputs": [
        {
          "output_type": "stream",
          "text": [
            "Epoch 0/14\n",
            "----------\n",
            "train Loss: 0.5769 Acc: 0.7623\n",
            "val Loss: 0.3130 Acc: 0.8889\n",
            "\n",
            "Epoch 1/14\n",
            "----------\n",
            "train Loss: 0.3536 Acc: 0.8934\n",
            "val Loss: 0.3285 Acc: 0.9085\n",
            "\n",
            "Epoch 2/14\n",
            "----------\n",
            "train Loss: 0.1691 Acc: 0.9262\n",
            "val Loss: 0.4107 Acc: 0.9020\n",
            "\n",
            "Epoch 3/14\n",
            "----------\n",
            "train Loss: 0.2943 Acc: 0.9180\n",
            "val Loss: 0.4814 Acc: 0.9085\n",
            "\n",
            "Epoch 4/14\n",
            "----------\n",
            "train Loss: 0.3329 Acc: 0.9057\n",
            "val Loss: 0.4670 Acc: 0.8889\n",
            "\n",
            "Epoch 5/14\n",
            "----------\n",
            "train Loss: 0.3136 Acc: 0.9016\n",
            "val Loss: 0.5571 Acc: 0.8954\n",
            "\n",
            "Epoch 6/14\n",
            "----------\n",
            "train Loss: 0.2266 Acc: 0.9262\n",
            "val Loss: 0.4231 Acc: 0.9020\n",
            "\n",
            "Epoch 7/14\n",
            "----------\n",
            "train Loss: 0.2168 Acc: 0.9139\n",
            "val Loss: 0.4628 Acc: 0.8954\n",
            "\n",
            "Epoch 8/14\n",
            "----------\n",
            "train Loss: 0.2200 Acc: 0.9262\n",
            "val Loss: 0.4538 Acc: 0.9150\n",
            "\n",
            "Epoch 9/14\n",
            "----------\n",
            "train Loss: 0.1774 Acc: 0.9467\n",
            "val Loss: 0.3765 Acc: 0.9150\n",
            "\n",
            "Epoch 10/14\n",
            "----------\n",
            "train Loss: 0.1394 Acc: 0.9508\n",
            "val Loss: 0.3471 Acc: 0.9020\n",
            "\n",
            "Epoch 11/14\n",
            "----------\n",
            "train Loss: 0.1620 Acc: 0.9549\n",
            "val Loss: 0.4873 Acc: 0.8889\n",
            "\n",
            "Epoch 12/14\n",
            "----------\n",
            "train Loss: 0.2225 Acc: 0.9344\n",
            "val Loss: 0.6058 Acc: 0.9020\n",
            "\n",
            "Epoch 13/14\n",
            "----------\n",
            "train Loss: 0.1364 Acc: 0.9631\n",
            "val Loss: 0.5404 Acc: 0.9020\n",
            "\n",
            "Epoch 14/14\n",
            "----------\n",
            "train Loss: 0.1625 Acc: 0.9590\n",
            "val Loss: 0.4712 Acc: 0.8954\n",
            "\n",
            "Training complete in 1m 46s\n",
            "Best val Acc: 0.915033\n"
          ],
          "name": "stdout"
        }
      ]
    },
    {
      "cell_type": "markdown",
      "metadata": {
        "id": "dZkHFltAbST1"
      },
      "source": [
        "## Comparison with Model Trained from Scratch\n",
        "\n",
        "Just for fun, lets see how the model learns if we do not use transfer\n",
        "learning. The performance of finetuning vs. feature extracting depends\n",
        "largely on the dataset but in general both transfer learning methods\n",
        "produce favorable results in terms of training time and overall accuracy\n",
        "versus a model trained from scratch."
      ]
    },
    {
      "cell_type": "code",
      "metadata": {
        "id": "GBuukDofYU9g",
        "colab": {
          "base_uri": "https://localhost:8080/",
          "height": 1000
        },
        "outputId": "b43c3a1d-1fa1-4aaf-d85e-16cff1e617db"
      },
      "source": [
        "# Initialize the non-pretrained version of the model used for this run\n",
        "scratch_model,_ = initialize_model(model_name, num_classes, feature_extract=False, use_pretrained=False)\n",
        "scratch_model = scratch_model.to(device)\n",
        "scratch_optimizer = optim.SGD(scratch_model.parameters(), lr=0.001, momentum=0.9)\n",
        "scratch_criterion = nn.CrossEntropyLoss()\n",
        "_,scratch_hist = train_model(scratch_model, dataloaders_dict, scratch_criterion, scratch_optimizer, num_epochs=num_epochs)\n",
        "\n",
        "# Plot the training curves of validation accuracy vs. number \n",
        "#  of training epochs for the transfer learning method and\n",
        "#  the model trained from scratch\n",
        "ohist = []\n",
        "shist = []\n",
        "\n",
        "ohist = [h.cpu().numpy() for h in hist]\n",
        "shist = [h.cpu().numpy() for h in scratch_hist]\n",
        "\n",
        "plt.title(\"Validation Accuracy vs. Number of Training Epochs\")\n",
        "plt.xlabel(\"Training Epochs\")\n",
        "plt.ylabel(\"Validation Accuracy\")\n",
        "plt.plot(range(1,num_epochs+1),ohist,label=\"Pretrained\")\n",
        "plt.plot(range(1,num_epochs+1),shist,label=\"Scratch\")\n",
        "plt.ylim((0,1.))\n",
        "plt.xticks(np.arange(1, num_epochs+1, 1.0))\n",
        "plt.legend()\n",
        "plt.show()"
      ],
      "execution_count": null,
      "outputs": [
        {
          "output_type": "stream",
          "text": [
            "Epoch 0/14\n",
            "----------\n",
            "train Loss: 0.6939 Acc: 0.4959\n",
            "val Loss: 0.6944 Acc: 0.4575\n",
            "\n",
            "Epoch 1/14\n",
            "----------\n",
            "train Loss: 0.6938 Acc: 0.4631\n",
            "val Loss: 0.6930 Acc: 0.5098\n",
            "\n",
            "Epoch 2/14\n",
            "----------\n",
            "train Loss: 0.6933 Acc: 0.5000\n",
            "val Loss: 0.6924 Acc: 0.5425\n",
            "\n",
            "Epoch 3/14\n",
            "----------\n",
            "train Loss: 0.6936 Acc: 0.4877\n",
            "val Loss: 0.6917 Acc: 0.5425\n",
            "\n",
            "Epoch 4/14\n",
            "----------\n",
            "train Loss: 0.6928 Acc: 0.5492\n",
            "val Loss: 0.6922 Acc: 0.5882\n",
            "\n",
            "Epoch 5/14\n",
            "----------\n",
            "train Loss: 0.6928 Acc: 0.5000\n",
            "val Loss: 0.6924 Acc: 0.6275\n",
            "\n",
            "Epoch 6/14\n",
            "----------\n",
            "train Loss: 0.6926 Acc: 0.5287\n",
            "val Loss: 0.6919 Acc: 0.6601\n",
            "\n",
            "Epoch 7/14\n",
            "----------\n",
            "train Loss: 0.6925 Acc: 0.5287\n",
            "val Loss: 0.6926 Acc: 0.4706\n",
            "\n",
            "Epoch 8/14\n",
            "----------\n",
            "train Loss: 0.6928 Acc: 0.5082\n",
            "val Loss: 0.6919 Acc: 0.6144\n",
            "\n",
            "Epoch 9/14\n",
            "----------\n",
            "train Loss: 0.6927 Acc: 0.5533\n",
            "val Loss: 0.6914 Acc: 0.6536\n",
            "\n",
            "Epoch 10/14\n",
            "----------\n",
            "train Loss: 0.6923 Acc: 0.5820\n",
            "val Loss: 0.6909 Acc: 0.6405\n",
            "\n",
            "Epoch 11/14\n",
            "----------\n",
            "train Loss: 0.6928 Acc: 0.5287\n",
            "val Loss: 0.6893 Acc: 0.5556\n",
            "\n",
            "Epoch 12/14\n",
            "----------\n",
            "train Loss: 0.6915 Acc: 0.5615\n",
            "val Loss: 0.6888 Acc: 0.6078\n",
            "\n",
            "Epoch 13/14\n",
            "----------\n",
            "train Loss: 0.6909 Acc: 0.5779\n",
            "val Loss: 0.6886 Acc: 0.6471\n",
            "\n",
            "Epoch 14/14\n",
            "----------\n",
            "train Loss: 0.6915 Acc: 0.5205\n",
            "val Loss: 0.6864 Acc: 0.5556\n",
            "\n",
            "Training complete in 0m 59s\n",
            "Best val Acc: 0.660131\n"
          ],
          "name": "stdout"
        },
        {
          "output_type": "display_data",
          "data": {
            "image/png": "[encoded data removed]",
            "text/plain": [
              "<Figure size 432x288 with 1 Axes>"
            ]
          },
          "metadata": {
            "tags": [],
            "needs_background": "light"
          }
        }
      ]
    },
    {
      "cell_type": "markdown",
      "metadata": {
        "id": "ClxJRfdIb0aj"
      },
      "source": [
        "## Excercise\n",
        "Try finetuning the entire pretrained model. Report the best accuracy achieved. Does this model work better or worse than only fine-tuning the final layer? Report your result with and without using weight decay for both approaches.\n",
        "\n",
        "## Excercise (optional)\n",
        "\n",
        "Try changing the number of layers to finetune. You can choose to finetune the train only a two of the last fully connected layers."
      ]
    },
    {
      "cell_type": "code",
      "metadata": {
        "id": "j7S6CiosrrJV"
      },
      "source": [
        "### Your code here ###"
      ],
      "execution_count": null,
      "outputs": []
    }
  ]
}