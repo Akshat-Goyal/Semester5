{
 "cells": [
  {
   "cell_type": "code",
   "execution_count": 33,
   "metadata": {},
   "outputs": [],
   "source": [
    "import numpy as np\n",
    "%matplotlib inline\n",
    "import matplotlib.pyplot as plt"
   ]
  },
  {
   "cell_type": "markdown",
   "metadata": {},
   "source": [
    "## Numpy exercise\n",
    "\n",
    "Consider two sets of points p0 and p1 describing a line in a 2 Dimensional (2D) plane. Consider an arbitrary point p in 2D.\n",
    "\n",
    "1. Compute the orthogonal distance between the point p and the the line segment joining the points p0 and p1.\n",
    "2. Plot the line segment joining the points p0 and p1, the point p and the orthogonal distance between the point and the line segment."
   ]
  },
  {
   "cell_type": "code",
   "execution_count": 79,
   "metadata": {},
   "outputs": [
    {
     "name": "stdout",
     "output_type": "stream",
     "text": [
      "[[0.32495783]\n",
      " [1.31161832]]\n",
      "[[-1.30162656]\n",
      " [ 0.27135333]]\n",
      "[[-0.73026717]\n",
      " [-0.09369729]]\n"
     ]
    }
   ],
   "source": [
    "# 2D points\n",
    "# p0 = np.array([1, 0])\n",
    "# p1 = np.array([3, 0])\n",
    "# p = np.array([2, 1])\n",
    "p0 = np.random.randn(2).reshape((2,1))\n",
    "p1 = np.random.randn(2).reshape((2,1))\n",
    "p = np.random.randn(2).reshape((2,1))\n",
    "print(p0)\n",
    "print(p1)\n",
    "print(p)"
   ]
  },
  {
   "cell_type": "code",
   "execution_count": 80,
   "metadata": {},
   "outputs": [],
   "source": [
    "# calculates orthogonal distance of p from line formed by p0 and p1\n",
    "def orthogonal_dist(p0, p1, p):\n",
    "    # unit vector along line p0 -> p1\n",
    "    u = (p1 - p0) / np.linalg.norm(p1 - p0)\n",
    "    # vector p0 -> p\n",
    "    v = p - p0\n",
    "    # vector projection of v on u\n",
    "    proj = float(u.T @ v) * u\n",
    "    # vector perpendicular to line p and passing through p\n",
    "    vp = v - proj\n",
    "    # projection of p on line, orthogonal distance\n",
    "    return p0 + proj, np.linalg.norm(vp)"
   ]
  },
  {
   "cell_type": "code",
   "execution_count": 81,
   "metadata": {},
   "outputs": [
    {
     "data": {
      "text/plain": [
       "(array([[-1.06181641],\n",
       "        [ 0.4247214 ]]),\n",
       " 0.6153721104106666)"
      ]
     },
     "execution_count": 81,
     "metadata": {},
     "output_type": "execute_result"
    }
   ],
   "source": [
    "# Part1 \n",
    "o, dist = orthogonal_dist(p0, p1, p)\n",
    "o, dist"
   ]
  },
  {
   "cell_type": "code",
   "execution_count": 82,
   "metadata": {},
   "outputs": [
    {
     "data": {
      "image/png": "[encoded data removed]",
      "text/plain": [
       "<Figure size 432x288 with 1 Axes>"
      ]
     },
     "metadata": {
      "needs_background": "light"
     },
     "output_type": "display_data"
    }
   ],
   "source": [
    "# Part2\n",
    "plt.plot([p0[0], p1[0]], [p0[1], p1[1]], marker='o')\n",
    "plt.annotate('p0', p0, fontsize=15)\n",
    "plt.annotate('p1', p1, fontsize=15)\n",
    "plt.plot([o[0], p[0]], [o[1], p[1]], marker='o')\n",
    "plt.annotate('p', p, fontsize=15)\n",
    "plt.annotate('o', o, fontsize=15)\n",
    "plt.text((p[0] + o[0]) / 2, (p[1] + o[1]) / 2, str(dist) + ' units')\n",
    "plt.legend(['line', 'perpendicular'])\n",
    "plt.axis(\"equal\")\n",
    "plt.show()"
   ]
  },
  {
   "cell_type": "code",
   "execution_count": null,
   "metadata": {},
   "outputs": [],
   "source": []
  }
 ],
 "metadata": {
  "kernelspec": {
   "display_name": "Python (cvit)",
   "language": "python",
   "name": "cvit"
  },
  "language_info": {
   "codemirror_mode": {
    "name": "ipython",
    "version": 3
   },
   "file_extension": ".py",
   "mimetype": "text/x-python",
   "name": "python",
   "nbconvert_exporter": "python",
   "pygments_lexer": "ipython3",
   "version": "3.7.7"
  }
 },
 "nbformat": 4,
 "nbformat_minor": 4
}
