{
 "cells": [
  {
   "cell_type": "markdown",
   "metadata": {},
   "source": [
    "# Roll No: 2018101075"
   ]
  },
  {
   "cell_type": "markdown",
   "metadata": {},
   "source": [
    "# Excercise 1\n",
    "\n",
    "In the tutorial you saw how to compute LDA for a two class problem. In this excercise we will work on a multi-class problem. We will be working with the famous Iris dataset that has been deposited on the UCI machine learning repository\n",
    "(https://archive.ics.uci.edu/ml/datasets/Iris).\n",
    "\n",
    "The iris dataset contains measurements for 150 iris flowers from three different species.\n",
    "\n",
    "The three classes in the Iris dataset:\n",
    "1. Iris-setosa (n=50)\n",
    "2. Iris-versicolor (n=50)\n",
    "3. Iris-virginica (n=50)\n",
    "\n",
    "The four features of the Iris dataset:\n",
    "1. sepal length in cm\n",
    "2. sepal width in cm\n",
    "3. petal length in cm\n",
    "4. petal width in cm\n",
    "\n",
    "<img src=\"iris_petal_sepal.png\">\n",
    "\n"
   ]
  },
  {
   "cell_type": "code",
   "execution_count": 1,
   "metadata": {},
   "outputs": [],
   "source": [
    "from sklearn.datasets import make_classification\n",
    "import matplotlib.pyplot as plt\n",
    "import numpy as np\n",
    "import seaborn as sns; sns.set();\n",
    "import pandas as pd\n",
    "from sklearn.model_selection import train_test_split\n",
    "from numpy import pi"
   ]
  },
  {
   "cell_type": "markdown",
   "metadata": {},
   "source": [
    "### Importing the dataset"
   ]
  },
  {
   "cell_type": "code",
   "execution_count": 2,
   "metadata": {},
   "outputs": [
    {
     "data": {
      "text/html": [
       "<div>\n",
       "<style scoped>\n",
       "    .dataframe tbody tr th:only-of-type {\n",
       "        vertical-align: middle;\n",
       "    }\n",
       "\n",
       "    .dataframe tbody tr th {\n",
       "        vertical-align: top;\n",
       "    }\n",
       "\n",
       "    .dataframe thead th {\n",
       "        text-align: right;\n",
       "    }\n",
       "</style>\n",
       "<table border=\"1\" class=\"dataframe\">\n",
       "  <thead>\n",
       "    <tr style=\"text-align: right;\">\n",
       "      <th></th>\n",
       "      <th>sepal-length</th>\n",
       "      <th>sepal-width</th>\n",
       "      <th>petal-length</th>\n",
       "      <th>petal-width</th>\n",
       "      <th>Class</th>\n",
       "    </tr>\n",
       "  </thead>\n",
       "  <tbody>\n",
       "    <tr>\n",
       "      <th>145</th>\n",
       "      <td>6.7</td>\n",
       "      <td>3.0</td>\n",
       "      <td>5.2</td>\n",
       "      <td>2.3</td>\n",
       "      <td>Iris-virginica</td>\n",
       "    </tr>\n",
       "    <tr>\n",
       "      <th>146</th>\n",
       "      <td>6.3</td>\n",
       "      <td>2.5</td>\n",
       "      <td>5.0</td>\n",
       "      <td>1.9</td>\n",
       "      <td>Iris-virginica</td>\n",
       "    </tr>\n",
       "    <tr>\n",
       "      <th>147</th>\n",
       "      <td>6.5</td>\n",
       "      <td>3.0</td>\n",
       "      <td>5.2</td>\n",
       "      <td>2.0</td>\n",
       "      <td>Iris-virginica</td>\n",
       "    </tr>\n",
       "    <tr>\n",
       "      <th>148</th>\n",
       "      <td>6.2</td>\n",
       "      <td>3.4</td>\n",
       "      <td>5.4</td>\n",
       "      <td>2.3</td>\n",
       "      <td>Iris-virginica</td>\n",
       "    </tr>\n",
       "    <tr>\n",
       "      <th>149</th>\n",
       "      <td>5.9</td>\n",
       "      <td>3.0</td>\n",
       "      <td>5.1</td>\n",
       "      <td>1.8</td>\n",
       "      <td>Iris-virginica</td>\n",
       "    </tr>\n",
       "  </tbody>\n",
       "</table>\n",
       "</div>"
      ],
      "text/plain": [
       "     sepal-length  sepal-width  petal-length  petal-width           Class\n",
       "145           6.7          3.0           5.2          2.3  Iris-virginica\n",
       "146           6.3          2.5           5.0          1.9  Iris-virginica\n",
       "147           6.5          3.0           5.2          2.0  Iris-virginica\n",
       "148           6.2          3.4           5.4          2.3  Iris-virginica\n",
       "149           5.9          3.0           5.1          1.8  Iris-virginica"
      ]
     },
     "execution_count": 2,
     "metadata": {},
     "output_type": "execute_result"
    }
   ],
   "source": [
    "url = \"https://archive.ics.uci.edu/ml/machine-learning-databases/iris/iris.data\"\n",
    "names = ['sepal-length', 'sepal-width', 'petal-length', 'petal-width', 'Class']\n",
    "dataset = pd.read_csv(url, names=names)\n",
    "\n",
    "dataset.tail()"
   ]
  },
  {
   "cell_type": "markdown",
   "metadata": {},
   "source": [
    "### Data preprocessing\n",
    "\n",
    "Once dataset is loaded into a pandas data frame object, the first step is to divide dataset into features and corresponding labels and then divide the resultant dataset into training and test sets. The following code divides data into labels and feature set:"
   ]
  },
  {
   "cell_type": "code",
   "execution_count": 3,
   "metadata": {},
   "outputs": [],
   "source": [
    "X = dataset.iloc[:, 0:4].values\n",
    "y = dataset.iloc[:, 4].values"
   ]
  },
  {
   "cell_type": "markdown",
   "metadata": {},
   "source": [
    "The above script assigns the first four columns of the dataset i.e. the feature set to X variable while the values in the fifth column (labels) are assigned to the y variable.\n",
    "\n",
    "The following code divides data into training and test sets:"
   ]
  },
  {
   "cell_type": "code",
   "execution_count": 4,
   "metadata": {},
   "outputs": [],
   "source": [
    "from sklearn.model_selection import train_test_split\n",
    "\n",
    "X_train, X_test, y_train, y_test = train_test_split(X, y, test_size=0.2, random_state=0)"
   ]
  },
  {
   "cell_type": "markdown",
   "metadata": {},
   "source": [
    "#### Feature Scaling\n",
    "\n",
    "We will now perform feature scaling as part of data preprocessing too. For this task, we will be using scikit learn `StandardScalar`."
   ]
  },
  {
   "cell_type": "code",
   "execution_count": 5,
   "metadata": {},
   "outputs": [],
   "source": [
    "from sklearn.preprocessing import StandardScaler\n",
    "\n",
    "sc = StandardScaler()\n",
    "X_train = sc.fit_transform(X_train)\n",
    "X_test = sc.transform(X_test)"
   ]
  },
  {
   "cell_type": "code",
   "execution_count": 6,
   "metadata": {},
   "outputs": [
    {
     "name": "stdout",
     "output_type": "stream",
     "text": [
      "(120, 4)\n",
      "(120,)\n"
     ]
    }
   ],
   "source": [
    "print(X_train.shape)\n",
    "print(y_train.shape)"
   ]
  },
  {
   "cell_type": "markdown",
   "metadata": {},
   "source": [
    "## Write your code below\n",
    "\n",
    "Write you code below to LDA on the IRIS dataset and compute the overall accuracy of the classifier."
   ]
  },
  {
   "cell_type": "code",
   "execution_count": 7,
   "metadata": {},
   "outputs": [],
   "source": [
    "### WRITE YOUR CODE HERE ####\n",
    "\n",
    "def getlabel(y, labels=None):\n",
    "    if labels == None: labels = [i for i in range(y.shape[0])]\n",
    "    classes = np.unique(y)\n",
    "    out = np.zeros((y.shape[0]), dtype='object')\n",
    "    cnt = 0\n",
    "    for c in classes:\n",
    "        out[y == c] = labels[cnt]\n",
    "        cnt += 1\n",
    "    return out\n",
    "\n",
    "def cov(X):\n",
    "    return 1 / X.shape[0] * X.T @ X\n",
    "\n",
    "def LDA(X_train, y_train):\n",
    "    \n",
    "    m, d = X_train.shape\n",
    "    mean = np.mean(X_train, axis=0).reshape((1, -1))\n",
    "    SW, SB = np.zeros((d, d)), np.zeros((d, d))\n",
    "    classes = np.unique(y_train)\n",
    "    for c in range(classes.shape[0]):\n",
    "        Xc = X_train[y_train == classes[c]]\n",
    "        meanc = np.mean(Xc, axis=0).reshape((1, -1))\n",
    "        SB += Xc.shape[0] * cov(meanc - mean)\n",
    "        SW += cov(Xc - meanc)\n",
    "    SB /= m\n",
    "    \n",
    "    eigvals, eigvecs = np.linalg.eig(np.linalg.pinv(SW) @ SB)\n",
    "    \n",
    "    idx = np.argsort(eigvals)[::-1]\n",
    "    eigvals = np.real(eigvals[idx])\n",
    "    eigvecs = np.real(eigvecs[:, idx])\n",
    "    \n",
    "    return eigvecs[:, 0:1].T"
   ]
  },
  {
   "cell_type": "code",
   "execution_count": 8,
   "metadata": {},
   "outputs": [],
   "source": [
    "W = LDA(X_train, y_train)"
   ]
  },
  {
   "cell_type": "code",
   "execution_count": 9,
   "metadata": {},
   "outputs": [
    {
     "data": {
      "image/png": "[encoded data removed]",
      "text/plain": [
       "<Figure size 432x288 with 1 Axes>"
      ]
     },
     "metadata": {},
     "output_type": "display_data"
    }
   ],
   "source": [
    "plt.scatter((W @ X.T).ravel(), np.zeros((X.shape[0])), c=getlabel(y,['r', 'g', 'b']))\n",
    "plt.show()"
   ]
  },
  {
   "cell_type": "code",
   "execution_count": 10,
   "metadata": {},
   "outputs": [],
   "source": [
    "def init_weights(n_features, n_outputs):\n",
    "    const = 1 / np.sqrt(n_features)\n",
    "    W = np.random.randn(n_features, n_outputs) * const\n",
    "    W[-1, :] = 0\n",
    "    return W\n",
    "\n",
    "def cost_fun(Y, Y_pred, epsilon=1e-8):\n",
    "    Y_pred = np.where(Y == 1, Y_pred, 1 - Y_pred)\n",
    "    Y_pred = np.where(Y_pred == 0, Y_pred + epsilon, Y_pred)\n",
    "    cost = -1 / Y.shape[0] * np.sum(np.log(Y_pred))\n",
    "    return cost\n",
    "\n",
    "def two_class_data(X_in, y_in, k1, k2):\n",
    "    idx = np.where((y_in == k1) | (y_in == k2))\n",
    "    X = X_in[idx]\n",
    "    Y = y_in[idx]\n",
    "    Y = np.where(Y == k1, 1, 0).reshape((-1, 1))\n",
    "    return X, Y\n",
    "\n",
    "def sigmoid(X):\n",
    "    return 1 / (1 + np.exp(-X))\n",
    "\n",
    "def add_bias(X):\n",
    "    return np.hstack([X, np.ones((X.shape[0], 1))])\n",
    "\n",
    "def predict_onevsone(X, W):\n",
    "    X = add_bias(X)\n",
    "    n_classes = int(np.sqrt(W.shape[1]))\n",
    "    y_pred = np.where((X @ W) >= 0, 1, 0).reshape((X.shape[0], n_classes, n_classes))\n",
    "    return np.argmax(np.sum(y_pred, axis=-1), axis=1)\n",
    "\n",
    "def accuracy_onevsone(X, y, W):\n",
    "    y_pred = predict_onevsone(X, W)\n",
    "    return np.count_nonzero(getlabel(y) == y_pred) / y.shape[0]\n",
    "\n",
    "def predict_onevsall(X, W):\n",
    "    X = add_bias(X)\n",
    "    return np.argmax(X @ W, axis = 1)\n",
    "\n",
    "def accuracy_onevsall(X, y, W):\n",
    "    y_pred = predict_onevsall(X, W)\n",
    "    return np.count_nonzero(getlabel(y) == y_pred) / y.shape[0]\n",
    "\n",
    "def train(X, Y, epochs=10000, lr=0.01):\n",
    "    n_samples, n_features = X.shape\n",
    "    W = init_weights(n_features, 1)\n",
    "    for epoch in range(epochs):\n",
    "        Y_pred = sigmoid(X @ W)\n",
    "        gradient = 1 / n_samples * X.T @ (Y - Y_pred)\n",
    "        W += lr * gradient\n",
    "        if epoch % (epochs // 5) == 0:\n",
    "            print(f\"Epoch {epoch}: train loss {cost_fun(Y, Y_pred)}\")\n",
    "    return W\n",
    "\n",
    "def onevsoneClassifier(X_train, y_train, epochs=1000, lr=0.01):\n",
    "    X_train = add_bias(X_train)\n",
    "    y_train = getlabel(y_train)\n",
    "    n_examples, n_features = X_train.shape\n",
    "    classes = np.unique(y_train)\n",
    "    \n",
    "    W = []\n",
    "    print(f\"Training one vs one classifier starts\")\n",
    "    for k1 in classes:\n",
    "        for k2 in classes:\n",
    "            print(f\"Training {k1} vs {k2} classifier\")\n",
    "            X, Y = two_class_data(X_train, y_train, k1, k2)\n",
    "            W.append(train(X, Y, epochs, lr).ravel())\n",
    "    print(f\"Training one vs one classifier ends\")\n",
    "    return np.array(W).T\n",
    "\n",
    "def onevsallClassifier(X_train, y_train, epochs=10000, lr=0.1):\n",
    "    X_train = add_bias(X_train)\n",
    "    y_train = getlabel(y_train)\n",
    "    n_examples, n_features = X_train.shape\n",
    "    classes = np.unique(y_train)\n",
    "    \n",
    "    W = []\n",
    "    print(f\"Training one vs all classifier starts\")\n",
    "    for k in classes:\n",
    "        print(f\"{k} vs all classifier starts\")\n",
    "        W.append(train(X_train, np.where(y_train == k, 1, 0).reshape((-1, 1)), epochs, lr).ravel())\n",
    "        print(f\"{k} vs all classifier ends\")\n",
    "    print(f\"Training one vs all classifier ends\")\n",
    "    return np.array(W).T"
   ]
  },
  {
   "cell_type": "code",
   "execution_count": 11,
   "metadata": {
    "scrolled": true
   },
   "outputs": [
    {
     "name": "stdout",
     "output_type": "stream",
     "text": [
      "Training one vs all classifier starts\n",
      "0 vs all classifier starts\n",
      "Epoch 0: train loss 0.4648907540001754\n",
      "Epoch 20000: train loss 8.131466572101591e-05\n",
      "Epoch 40000: train loss 4.276186928945999e-05\n",
      "Epoch 60000: train loss 2.9300189489791646e-05\n",
      "Epoch 80000: train loss 2.238482854872249e-05\n",
      "0 vs all classifier ends\n",
      "1 vs all classifier starts\n",
      "Epoch 0: train loss 0.8134039775294607\n",
      "Epoch 20000: train loss 0.6005433149008521\n",
      "Epoch 40000: train loss 0.6005433149008521\n",
      "Epoch 60000: train loss 0.6005433149008521\n",
      "Epoch 80000: train loss 0.6005433149008521\n",
      "1 vs all classifier ends\n",
      "2 vs all classifier starts\n",
      "Epoch 0: train loss 0.45361683696651167\n",
      "Epoch 20000: train loss 0.05113344220429827\n",
      "Epoch 40000: train loss 0.05112957948474221\n",
      "Epoch 60000: train loss 0.05112957150290266\n",
      "Epoch 80000: train loss 0.05112957148562361\n",
      "2 vs all classifier ends\n",
      "Training one vs all classifier ends\n"
     ]
    }
   ],
   "source": [
    "W_onevsall = onevsallClassifier(X_train @ W.T, y_train, 100000, 2)"
   ]
  },
  {
   "cell_type": "code",
   "execution_count": 12,
   "metadata": {},
   "outputs": [
    {
     "name": "stdout",
     "output_type": "stream",
     "text": [
      "Training accuracy: 0.9833333333333333\n",
      "Test accuracy: 1.0\n"
     ]
    }
   ],
   "source": [
    "print(f\"Training accuracy: {accuracy_onevsall(X_train @ W.T, y_train, W_onevsall)}\")\n",
    "print(f\"Test accuracy: {accuracy_onevsall(X_test @ W.T, y_test, W_onevsall)}\")"
   ]
  },
  {
   "cell_type": "code",
   "execution_count": 13,
   "metadata": {},
   "outputs": [],
   "source": [
    "def plot1D_decision_boundary(X, y):\n",
    "    X = X.ravel()\n",
    "    label = np.unique(y)\n",
    "    fig, ax = plt.subplots()\n",
    "    ax.scatter(X, np.zeros((X.shape[0])), c=getlabel(y, ['r','g','b']), label=label, marker='x')\n",
    "    X = np.linspace(-3, 3, 100)\n",
    "    y = predict_onevsall(X.reshape((-1, 1)), W_onevsall)\n",
    "    ax.scatter(X, np.zeros((X.shape[0])), alpha=0.3, c=getlabel(y,['r','g','b']), label=label)\n",
    "    ax.legend()\n",
    "    plt.show()"
   ]
  },
  {
   "cell_type": "code",
   "execution_count": 14,
   "metadata": {},
   "outputs": [
    {
     "data": {
      "image/png": "[encoded data removed]",
      "text/plain": [
       "<Figure size 432x288 with 1 Axes>"
      ]
     },
     "metadata": {},
     "output_type": "display_data"
    }
   ],
   "source": [
    "plot1D_decision_boundary(X_train @ W.T, y_train)"
   ]
  },
  {
   "cell_type": "code",
   "execution_count": null,
   "metadata": {},
   "outputs": [],
   "source": []
  }
 ],
 "metadata": {
  "kernelspec": {
   "display_name": "Python 3",
   "language": "python",
   "name": "python3"
  },
  "language_info": {
   "codemirror_mode": {
    "name": "ipython",
    "version": 3
   },
   "file_extension": ".py",
   "mimetype": "text/x-python",
   "name": "python",
   "nbconvert_exporter": "python",
   "pygments_lexer": "ipython3",
   "version": "3.7.7"
  }
 },
 "nbformat": 4,
 "nbformat_minor": 2
}
